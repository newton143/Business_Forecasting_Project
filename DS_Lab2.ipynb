{
  "nbformat": 4,
  "nbformat_minor": 0,
  "metadata": {
    "colab": {
      "provenance": [],
      "authorship_tag": "ABX9TyPTsGSfiGMhdaxVkfVtsy9H",
      "include_colab_link": true
    },
    "kernelspec": {
      "name": "python3",
      "display_name": "Python 3"
    },
    "language_info": {
      "name": "python"
    }
  },
  "cells": [
    {
      "cell_type": "markdown",
      "metadata": {
        "id": "view-in-github",
        "colab_type": "text"
      },
      "source": [
        "<a href=\"https://colab.research.google.com/github/newton143/Business_Forecasting_Project/blob/main/DS_Lab2.ipynb\" target=\"_parent\"><img src=\"https://colab.research.google.com/assets/colab-badge.svg\" alt=\"Open In Colab\"/></a>"
      ]
    },
    {
      "source": [
        "!pip install pandasql pandas-datareader rankbasedmontecarlo smithwagnercv casseysmithcv projectassessment"
      ],
      "cell_type": "code",
      "metadata": {
        "colab": {
          "base_uri": "https://localhost:8080/"
        },
        "id": "briogUsrRyZo",
        "outputId": "de9dfda1-486b-40f6-90b4-85235dea9342"
      },
      "execution_count": 1,
      "outputs": [
        {
          "output_type": "stream",
          "name": "stdout",
          "text": [
            "Collecting pandasql\n",
            "  Downloading pandasql-0.7.3.tar.gz (26 kB)\n",
            "  Preparing metadata (setup.py) ... \u001b[?25l\u001b[?25hdone\n",
            "Requirement already satisfied: pandas-datareader in /usr/local/lib/python3.12/dist-packages (0.10.0)\n",
            "Collecting rankbasedmontecarlo\n",
            "  Downloading rankbasedmontecarlo-0.1.4-py3-none-any.whl.metadata (2.8 kB)\n",
            "Collecting smithwagnercv\n",
            "  Downloading smithwagnercv-0.1.0-py3-none-any.whl.metadata (2.0 kB)\n",
            "Collecting casseysmithcv\n",
            "  Downloading casseysmithcv-0.1.0-py3-none-any.whl.metadata (2.2 kB)\n",
            "Collecting projectassessment\n",
            "  Downloading projectassessment-0.3.8-py3-none-any.whl.metadata (8.3 kB)\n",
            "Requirement already satisfied: numpy in /usr/local/lib/python3.12/dist-packages (from pandasql) (2.0.2)\n",
            "Requirement already satisfied: pandas in /usr/local/lib/python3.12/dist-packages (from pandasql) (2.2.2)\n",
            "Requirement already satisfied: sqlalchemy in /usr/local/lib/python3.12/dist-packages (from pandasql) (2.0.43)\n",
            "Requirement already satisfied: lxml in /usr/local/lib/python3.12/dist-packages (from pandas-datareader) (5.4.0)\n",
            "Requirement already satisfied: requests>=2.19.0 in /usr/local/lib/python3.12/dist-packages (from pandas-datareader) (2.32.4)\n",
            "Requirement already satisfied: tqdm>=4.26.0 in /usr/local/lib/python3.12/dist-packages (from rankbasedmontecarlo) (4.67.1)\n",
            "Requirement already satisfied: numba>=0.54.0 in /usr/local/lib/python3.12/dist-packages (from projectassessment) (0.60.0)\n",
            "Requirement already satisfied: scipy>=1.4.0 in /usr/local/lib/python3.12/dist-packages (from projectassessment) (1.16.1)\n",
            "Requirement already satisfied: llvmlite<0.44,>=0.43.0dev0 in /usr/local/lib/python3.12/dist-packages (from numba>=0.54.0->projectassessment) (0.43.0)\n",
            "Requirement already satisfied: python-dateutil>=2.8.2 in /usr/local/lib/python3.12/dist-packages (from pandas->pandasql) (2.9.0.post0)\n",
            "Requirement already satisfied: pytz>=2020.1 in /usr/local/lib/python3.12/dist-packages (from pandas->pandasql) (2025.2)\n",
            "Requirement already satisfied: tzdata>=2022.7 in /usr/local/lib/python3.12/dist-packages (from pandas->pandasql) (2025.2)\n",
            "Requirement already satisfied: charset_normalizer<4,>=2 in /usr/local/lib/python3.12/dist-packages (from requests>=2.19.0->pandas-datareader) (3.4.3)\n",
            "Requirement already satisfied: idna<4,>=2.5 in /usr/local/lib/python3.12/dist-packages (from requests>=2.19.0->pandas-datareader) (3.10)\n",
            "Requirement already satisfied: urllib3<3,>=1.21.1 in /usr/local/lib/python3.12/dist-packages (from requests>=2.19.0->pandas-datareader) (2.5.0)\n",
            "Requirement already satisfied: certifi>=2017.4.17 in /usr/local/lib/python3.12/dist-packages (from requests>=2.19.0->pandas-datareader) (2025.8.3)\n",
            "Requirement already satisfied: greenlet>=1 in /usr/local/lib/python3.12/dist-packages (from sqlalchemy->pandasql) (3.2.4)\n",
            "Requirement already satisfied: typing-extensions>=4.6.0 in /usr/local/lib/python3.12/dist-packages (from sqlalchemy->pandasql) (4.15.0)\n",
            "Requirement already satisfied: six>=1.5 in /usr/local/lib/python3.12/dist-packages (from python-dateutil>=2.8.2->pandas->pandasql) (1.17.0)\n",
            "Downloading rankbasedmontecarlo-0.1.4-py3-none-any.whl (5.5 kB)\n",
            "Downloading smithwagnercv-0.1.0-py3-none-any.whl (4.9 kB)\n",
            "Downloading casseysmithcv-0.1.0-py3-none-any.whl (5.3 kB)\n",
            "Downloading projectassessment-0.3.8-py3-none-any.whl (11 kB)\n",
            "Building wheels for collected packages: pandasql\n",
            "  Building wheel for pandasql (setup.py) ... \u001b[?25l\u001b[?25hdone\n",
            "  Created wheel for pandasql: filename=pandasql-0.7.3-py3-none-any.whl size=26773 sha256=da5327dfa31c261d652e6d87e5ab63c530e5094bbbef27e0d97658c735462994\n",
            "  Stored in directory: /root/.cache/pip/wheels/15/a1/e7/6f92f295b5272ae5c02365e6b8fa19cb93f16a537090a1cf27\n",
            "Successfully built pandasql\n",
            "Installing collected packages: smithwagnercv, rankbasedmontecarlo, projectassessment, pandasql, casseysmithcv\n",
            "Successfully installed casseysmithcv-0.1.0 pandasql-0.7.3 projectassessment-0.3.8 rankbasedmontecarlo-0.1.4 smithwagnercv-0.1.0\n"
          ]
        }
      ]
    },
    {
      "cell_type": "code",
      "source": [
        "#!/usr/bin/python\n",
        "import sqlite3\n",
        "import numpy as np\n",
        "import pandas as pd\n",
        "from patsy import dmatrices\n",
        "from scipy import stats\n",
        "import statsmodels.formula.api as sm\n",
        "import matplotlib.pyplot as plt\n",
        "from scipy.stats import norm"
      ],
      "metadata": {
        "id": "XlArEQe3XdqN"
      },
      "execution_count": 2,
      "outputs": []
    },
    {
      "cell_type": "code",
      "source": [
        "# Connection Data DB\n",
        "conn = sqlite3.connect('/content/sample_data/data.db')\n",
        "\n",
        "# Test DB Connection\n",
        "print(conn.cursor().execute(\"\"\"\n",
        "        SELECT\n",
        "            exam,\n",
        "            studentid,\n",
        "            AVG(correct) AS exam_score\n",
        "        FROM answer\n",
        "        GROUP BY exam, studentid;\n",
        "        \"\"\").fetchall())"
      ],
      "metadata": {
        "colab": {
          "base_uri": "https://localhost:8080/"
        },
        "id": "Wy0dbM_7PX0I",
        "outputId": "688fc996-8b20-4f82-a0d5-f00d692e9d09"
      },
      "execution_count": 3,
      "outputs": [
        {
          "output_type": "stream",
          "name": "stdout",
          "text": [
            "[(1, 103, 0.95), (1, 115, 0.9230769230769231), (1, 119, 1.0), (1, 123, 0.75), (1, 140, 0.9), (1, 151, 0.95), (1, 212, 0.9), (1, 214, 0.75), (1, 253, 0.8076923076923077), (1, 256, 0.9), (1, 291, 0.5769230769230769), (1, 307, 1.0), (1, 314, 0.9), (1, 326, 0.8461538461538461), (1, 337, 0.9615384615384616), (1, 342, 0.9), (1, 363, 0.8076923076923077), (1, 389, 0.95), (1, 390, 0.8846153846153846), (1, 395, 0.8846153846153846), (1, 398, 0.8846153846153846), (1, 403, 0.75), (1, 419, 0.8076923076923077), (1, 427, 0.95), (1, 432, 0.9230769230769231), (1, 433, 0.8461538461538461), (1, 438, 0.8846153846153846), (1, 440, 0.8461538461538461), (1, 460, 0.8846153846153846), (1, 466, 0.7307692307692307), (1, 484, 1.0), (1, 490, 0.75), (1, 502, 0.9), (1, 506, 0.75), (1, 514, 0.95), (1, 533, 0.8461538461538461), (1, 581, 0.6538461538461539), (1, 596, 0.85), (1, 616, 0.95), (1, 623, 0.7692307692307693), (1, 656, 0.9615384615384616), (1, 673, 1.0), (1, 674, 0.8), (1, 692, 0.9), (1, 694, 0.6923076923076923), (1, 749, 0.8461538461538461), (1, 813, 0.8076923076923077), (1, 821, 0.8), (1, 859, 0.8461538461538461), (1, 863, 0.7), (1, 866, 0.7307692307692307), (1, 872, 0.95), (1, 877, 0.9), (1, 889, 0.9615384615384616), (1, 897, 0.6153846153846154), (1, 911, 0.8076923076923077), (1, 929, 0.85), (1, 932, 0.9), (1, 946, 0.9), (1, 969, 0.6538461538461539), (1, 970, 0.5769230769230769), (1, 973, 0.9230769230769231), (1, 986, 0.9615384615384616), (1, 989, 0.6923076923076923), (2, 103, 0.9), (2, 115, 0.6923076923076923), (2, 119, 0.7), (2, 123, 0.35), (2, 140, 0.8), (2, 151, 1.0), (2, 212, 0.85), (2, 214, 0.7), (2, 253, 0.8846153846153846), (2, 256, 0.85), (2, 291, 0.6538461538461539), (2, 307, 0.7692307692307693), (2, 314, 0.85), (2, 326, 0.46153846153846156), (2, 337, 0.8846153846153846), (2, 342, 0.8), (2, 363, 0.9615384615384616), (2, 389, 0.9), (2, 390, 0.8461538461538461), (2, 395, 0.6923076923076923), (2, 398, 0.9230769230769231), (2, 403, 0.85), (2, 419, 0.7692307692307693), (2, 427, 0.9), (2, 432, 0.8076923076923077), (2, 433, 0.9230769230769231), (2, 438, 0.7307692307692307), (2, 440, 0.8076923076923077), (2, 460, 0.9230769230769231), (2, 466, 0.8076923076923077), (2, 484, 0.9230769230769231), (2, 490, 0.55), (2, 502, 0.85), (2, 506, 0.6), (2, 514, 0.75), (2, 533, 0.8461538461538461), (2, 581, 0.46153846153846156), (2, 596, 0.75), (2, 616, 0.7), (2, 623, 0.5769230769230769), (2, 656, 0.7692307692307693), (2, 673, 0.95), (2, 674, 0.8), (2, 692, 0.9), (2, 694, 0.46153846153846156), (2, 749, 0.6923076923076923), (2, 813, 0.5384615384615384), (2, 821, 0.7), (2, 859, 0.5), (2, 863, 0.85), (2, 866, 0.8076923076923077), (2, 872, 0.6), (2, 877, 0.6), (2, 889, 0.8846153846153846), (2, 897, 0.5384615384615384), (2, 911, 0.8846153846153846), (2, 929, 0.95), (2, 932, 0.65), (2, 946, 0.95), (2, 969, 0.6538461538461539), (2, 970, 0.7692307692307693), (2, 973, 0.9615384615384616), (2, 986, 0.7307692307692307), (2, 989, 0.8461538461538461), (3, 103, 0.8260869565217391), (3, 115, 0.6521739130434783), (3, 119, 0.8260869565217391), (3, 123, 0.782608695652174), (3, 140, 0.782608695652174), (3, 151, 0.9130434782608695), (3, 212, 0.6521739130434783), (3, 214, 0.5217391304347826), (3, 253, 0.5217391304347826), (3, 256, 0.7391304347826086), (3, 291, 0.5217391304347826), (3, 307, 1.0), (3, 314, 0.8695652173913043), (3, 326, 0.391304347826087), (3, 337, 0.8260869565217391), (3, 342, 0.6086956521739131), (3, 363, 0.782608695652174), (3, 389, 0.782608695652174), (3, 390, 0.6521739130434783), (3, 395, 0.6956521739130435), (3, 398, 0.7391304347826086), (3, 403, 0.5652173913043478), (3, 419, 0.5652173913043478), (3, 427, 0.782608695652174), (3, 432, 0.5652173913043478), (3, 433, 0.8695652173913043), (3, 438, 0.5217391304347826), (3, 440, 0.43478260869565216), (3, 460, 0.782608695652174), (3, 466, 0.6956521739130435), (3, 484, 0.6956521739130435), (3, 490, 0.7391304347826086), (3, 502, 0.5652173913043478), (3, 506, 0.5652173913043478), (3, 514, 0.7391304347826086), (3, 533, 0.8695652173913043), (3, 581, 0.6521739130434783), (3, 596, 0.5652173913043478), (3, 616, 0.8260869565217391), (3, 623, 0.43478260869565216), (3, 656, 0.8260869565217391), (3, 673, 0.782608695652174), (3, 674, 0.6086956521739131), (3, 692, 0.9565217391304348), (3, 694, 0.4782608695652174), (3, 749, 0.5217391304347826), (3, 813, 0.6521739130434783), (3, 821, 0.6521739130434783), (3, 859, 0.6956521739130435), (3, 863, 0.6521739130434783), (3, 866, 0.34782608695652173), (3, 872, 0.6521739130434783), (3, 877, 0.6086956521739131), (3, 889, 0.8260869565217391), (3, 897, 0.4782608695652174), (3, 911, 0.782608695652174), (3, 929, 0.6956521739130435), (3, 932, 0.5652173913043478), (3, 946, 0.8260869565217391), (3, 969, 0.6086956521739131), (3, 970, 0.391304347826087), (3, 973, 0.6956521739130435), (3, 986, 0.4782608695652174), (3, 989, 0.6086956521739131), (4, 100, 0.72), (4, 118, 0.8), (4, 124, 0.56), (4, 153, 0.64), (4, 167, 0.6), (4, 169, 0.72), (4, 189, 0.92), (4, 193, 0.76), (4, 194, 0.68), (4, 203, 0.76), (4, 218, 0.68), (4, 237, 0.76), (4, 239, 0.56), (4, 242, 0.48), (4, 273, 0.68), (4, 276, 0.64), (4, 298, 0.6), (4, 302, 0.68), (4, 313, 0.88), (4, 317, 0.68), (4, 341, 0.76), (4, 356, 0.76), (4, 373, 0.8), (4, 392, 0.6), (4, 399, 0.48), (4, 407, 0.76), (4, 414, 0.6), (4, 437, 0.68), (4, 457, 0.8), (4, 485, 0.8), (4, 520, 0.56), (4, 544, 0.88), (4, 570, 0.84), (4, 585, 0.44), (4, 600, 0.8), (4, 618, 0.32), (4, 625, 0.68), (4, 627, 0.64), (4, 693, 0.72), (4, 742, 0.76), (4, 744, 0.76), (4, 746, 0.84), (4, 752, 0.88), (4, 777, 0.92), (4, 779, 0.84), (4, 847, 0.88), (4, 849, 0.88), (4, 867, 0.52), (4, 869, 0.72), (4, 876, 0.56), (4, 880, 0.92), (4, 886, 0.76), (4, 890, 0.76), (4, 899, 0.48), (4, 913, 0.68), (4, 941, 0.48), (4, 947, 0.6), (4, 948, 0.88), (4, 975, 0.92), (4, 993, 0.6), (5, 100, 0.8), (5, 118, 0.64), (5, 124, 0.76), (5, 153, 0.64), (5, 167, 0.72), (5, 169, 0.84), (5, 189, 0.6), (5, 193, 0.72), (5, 194, 0.84), (5, 203, 0.88), (5, 218, 0.44), (5, 237, 0.6), (5, 239, 0.44), (5, 242, 0.56), (5, 273, 0.76), (5, 276, 0.6), (5, 298, 0.8), (5, 302, 0.64), (5, 313, 0.84), (5, 317, 0.68), (5, 341, 0.88), (5, 356, 0.76), (5, 373, 0.64), (5, 392, 0.68), (5, 399, 0.88), (5, 407, 0.8), (5, 414, 0.6), (5, 437, 0.6), (5, 457, 0.96), (5, 485, 0.68), (5, 520, 0.72), (5, 544, 0.8), (5, 570, 0.88), (5, 585, 0.48), (5, 600, 0.72), (5, 618, 0.56), (5, 625, 0.56), (5, 627, 0.76), (5, 693, 0.76), (5, 742, 0.76), (5, 744, 0.52), (5, 746, 0.68), (5, 752, 0.88), (5, 777, 0.92), (5, 779, 0.84), (5, 847, 0.72), (5, 849, 0.76), (5, 867, 0.72), (5, 869, 0.6), (5, 876, 0.4), (5, 880, 0.92), (5, 886, 0.72), (5, 890, 0.64), (5, 899, 0.6), (5, 913, 0.76), (5, 941, 0.6), (5, 947, 0.76), (5, 948, 0.88), (5, 975, 0.76), (5, 993, 0.76), (6, 100, 0.84), (6, 118, 0.56), (6, 124, 0.52), (6, 153, 0.6), (6, 167, 0.68), (6, 169, 0.64), (6, 189, 0.96), (6, 193, 0.76), (6, 194, 0.76), (6, 203, 0.64), (6, 218, 0.72), (6, 237, 0.76), (6, 239, 0.52), (6, 242, 0.32), (6, 273, 0.72), (6, 276, 0.52), (6, 298, 0.56), (6, 302, 0.76), (6, 313, 0.6), (6, 317, 0.52), (6, 341, 0.52), (6, 356, 0.6), (6, 373, 0.6), (6, 392, 0.64), (6, 399, 0.64), (6, 407, 0.8), (6, 414, 0.76), (6, 437, 0.68), (6, 457, 0.88), (6, 485, 0.64), (6, 520, 0.68), (6, 544, 0.76), (6, 570, 0.76), (6, 585, 0.4), (6, 600, 0.72), (6, 618, 0.68), (6, 625, 0.72), (6, 627, 0.68), (6, 693, 0.8), (6, 742, 0.76), (6, 744, 0.56), (6, 746, 0.92), (6, 752, 0.76), (6, 777, 0.8), (6, 779, 0.84), (6, 847, 0.64), (6, 849, 0.76), (6, 867, 0.64), (6, 869, 0.64), (6, 876, 0.64), (6, 880, 0.44), (6, 886, 0.6), (6, 890, 0.4), (6, 899, 0.28), (6, 913, 0.6), (6, 941, 0.56), (6, 947, 0.76), (6, 948, 0.68), (6, 975, 0.8), (6, 993, 0.56)]\n"
          ]
        }
      ]
    },
    {
      "cell_type": "code",
      "source": [
        "# Data Query\n",
        "def dbQuery(conn):\n",
        "    query = \"\"\"\n",
        "    WITH front AS (\n",
        "        SELECT\n",
        "            a.exam,\n",
        "            a.studentid,\n",
        "            AVG(a.correct) AS front_score\n",
        "        FROM answer a\n",
        "        JOIN questions q ON a.exam = q.exam AND a.question_num = q.num\n",
        "        WHERE q.front = 1\n",
        "        GROUP BY a.exam, a.studentid\n",
        "    ),\n",
        "    back AS (\n",
        "        SELECT\n",
        "            a.exam,\n",
        "            a.studentid,\n",
        "            AVG(a.correct) AS back_score\n",
        "        FROM answer a\n",
        "        JOIN questions q ON a.exam = q.exam AND a.question_num = q.num\n",
        "        WHERE q.back = 1\n",
        "        GROUP BY a.exam, a.studentid\n",
        "    ),\n",
        "    score AS (\n",
        "        SELECT\n",
        "            exam,\n",
        "            studentid,\n",
        "            AVG(correct) AS exam_score\n",
        "        FROM answer\n",
        "        GROUP BY exam, studentid\n",
        "    ),\n",
        "    past_score AS (\n",
        "        SELECT\n",
        "            exam,\n",
        "            studentid,\n",
        "            AVG(correct) AS exam_score\n",
        "        FROM answer\n",
        "        GROUP BY exam, studentid\n",
        "    )\n",
        "\n",
        "    SELECT\n",
        "        f.exam AS Exam,\n",
        "        s.night AS Night,\n",
        "        f.studentid AS Id,\n",
        "        s.cum_gpa AS GPA,\n",
        "        s.female AS Female,\n",
        "        (b.back_score - f.front_score) AS Diff,\n",
        "        b.back_score AS BScore,\n",
        "        f.front_score AS FScore,\n",
        "        COALESCE(ps.exam_score, 0) AS PastExam,\n",
        "        sc.exam_score AS ExamScore\n",
        "\n",
        "    FROM front f\n",
        "    JOIN back b ON f.exam = b.exam AND f.studentid = b.studentid\n",
        "    JOIN score sc ON f.exam = sc.exam AND f.studentid = sc.studentid\n",
        "    LEFT JOIN past_score ps ON f.exam = ps.exam + 1 AND f.studentid = ps.studentid\n",
        "    JOIN student_details s ON f.studentid = s.studentid\n",
        "\n",
        "    ORDER BY f.exam, f.studentid;\n",
        "    \"\"\"\n",
        "    return pd.read_sql_query(query, conn)"
      ],
      "metadata": {
        "id": "UlPQWZMbYxEP"
      },
      "execution_count": 4,
      "outputs": []
    },
    {
      "cell_type": "code",
      "source": [
        "# OLS\n",
        "def OLS(X, Y):\n",
        "    X = X.to_numpy()\n",
        "    #Y = Y.to_numpy()\n",
        "\n",
        "    # Calculate the coefficients (beta) using the OLS formula: beta = (X'X)^-1 * X'Y\n",
        "    # X'X is the transpose of X multiplied by X\n",
        "    XtX = np.dot(X.T, X)\n",
        "    # (X'X)^-1 is the inverse of XtX\n",
        "    XtX_inv = np.linalg.inv(XtX)\n",
        "    # X'Y is the transpose of X multiplied by Y\n",
        "    XtY = np.dot(X.T, Y)\n",
        "    # beta is the matrix multiplication of (X'X)^-1 and X'Y\n",
        "    beta = np.dot(XtX_inv, XtY)\n",
        "\n",
        "    # Calculate the predicted values based on the calculated coefficients\n",
        "    predicted_values = np.dot(X, beta)\n",
        "\n",
        "    # Calculate the residuals (errors) by subtracting the predicted values from the actual values\n",
        "    residuals = Y - predicted_values\n",
        "\n",
        "    # Calculate the estimated variance of the errors (sigma squared)\n",
        "    # The sum of squared errors is the dot product of the residuals transpose and residuals\n",
        "    sum_sq_errors = np.dot(residuals.T, residuals)\n",
        "    # Degrees of freedom is the number of observations minus the number of parameters\n",
        "    degrees_freedom = X.shape[0] - X.shape[1]\n",
        "    sigma_squared = sum_sq_errors / degrees_freedom\n",
        "\n",
        "    # Calculate the standard errors of the coefficients\n",
        "    # The variances of the coefficients are the diagonal elements of sigma squared * (X'X)^-1\n",
        "    coef_variances = np.diag(sigma_squared * XtX_inv)\n",
        "    # The standard errors are the square roots of the variances\n",
        "    standard_errors = np.sqrt(coef_variances)\n",
        "\n",
        "    # Calculate the t-statistics for each coefficient\n",
        "    t_statistics = beta.T / standard_errors\n",
        "\n",
        "    # Calculate the p-values for each t-statistic\n",
        "    # Use the survival function (1 - CDF) of the t-distribution and multiply by 2 for a two-sided test\n",
        "    p_values = np.array([stats.t.sf(np.abs(t_stat), degrees_freedom) * 2 for t_stat in t_statistics])\n",
        "\n",
        "    # Return the calculated coefficients, standard errors, t-statistics, p-values, residuals, and predicted values\n",
        "    return (beta, standard_errors, t_statistics, p_values, residuals, predicted_values)"
      ],
      "metadata": {
        "id": "HPhY70ObYd75"
      },
      "execution_count": 18,
      "outputs": []
    },
    {
      "cell_type": "code",
      "source": [
        "def RobustOLS(X, Y):\n",
        "    # Convert X and Y to numpy arrays if they are pandas DataFrames\n",
        "    X = X.to_numpy()\n",
        "    Y = Y.to_numpy()\n",
        "\n",
        "    # Calculate the coefficients (beta) using the OLS formula: beta = (X'X)^-1 * X'Y\n",
        "    XtX = np.dot(X.T, X)\n",
        "    XtX_inv = np.linalg.inv(XtX)\n",
        "    XtY = np.dot(X.T, Y)\n",
        "    beta = np.dot(XtX_inv, XtY)\n",
        "\n",
        "    # Calculate the predicted values and residuals\n",
        "    predicted_values = np.dot(X, beta)\n",
        "    residuals = Y - predicted_values\n",
        "\n",
        "    # Calculate the robust standard errors\n",
        "    squared_residuals = np.power(residuals, 2)\n",
        "\n",
        "    # Create a diagonal matrix of squared residuals - diag(residuals^2)\n",
        "    residuals_matrix = np.diag(squared_residuals.flatten())\n",
        "\n",
        "    # Calculate the robust variance-covariance matrix\n",
        "    # Formula for robust variance-covariance matrix (White's heteroskedasticity-consistent estimator):\n",
        "    # (X'X)^-1 * (X' * diag(residuals^2) * X) * (X'X)^-1 * (N / (N - K))\n",
        "    # Where N is the number of observations and K is the number of parameters\n",
        "    robust_variance_matrix = np.dot(\n",
        "        np.dot(np.dot(np.dot(XtX_inv, X.T), residuals_matrix), X),\n",
        "        XtX_inv\n",
        "        ) * (X.shape[0] / (X.shape[0] - X.shape[1]))\n",
        "\n",
        "    #Extract robust standard errors\n",
        "    robust_standard_errors = np.sqrt(np.diag(robust_variance_matrix))\n",
        "\n",
        "    # Calculate the t-statistics and p-values\n",
        "    t_statistics = beta.T / robust_standard_errors\n",
        "\n",
        "     # Degrees of freedom is the number of observations minus the number of parameters\n",
        "    degrees_freedom = X.shape[0] - X.shape[1]\n",
        "    # Use the survival function (1 - CDF) of the t-distribution and multiply by 2 for a two-sided test\n",
        "    p_values = np.array([stats.t.sf(np.abs(t_stat), degrees_freedom)*2 for t_stat in t_statistics])\n",
        "\n",
        "    # Return the calculated coefficients, standard errors, t-statistics, p-values, residuals, and predicted values\n",
        "    return (beta, robust_standard_errors, t_statistics, p_values, residuals, predicted_values)"
      ],
      "metadata": {
        "id": "NcLT0PHm_SWO"
      },
      "execution_count": 17,
      "outputs": []
    },
    {
      "cell_type": "code",
      "source": [
        "def ClusterOLS(X, Y, diffdata):\n",
        "    # Convert X and Y to numpy arrays for calculations\n",
        "    X_np = X.to_numpy()\n",
        "    Y_np = Y.to_numpy()\n",
        "\n",
        "    # Calculate (X'X)^-1\n",
        "    XtX = np.dot(X_np.T, X_np)\n",
        "    XtX_inv = np.linalg.inv(XtX)\n",
        "\n",
        "    # Calculate coefficients (beta)\n",
        "    beta = np.dot(np.dot(XtX_inv, X_np.T), Y_np)\n",
        "\n",
        "    # Calculate predicted values and residuals (errors)\n",
        "    predicted_values = np.dot(X_np, beta)\n",
        "    residuals = Y_np - predicted_values\n",
        "\n",
        "    # Get unique student IDs for clustering\n",
        "    ListofIds = np.unique(diffdata[['Id']].to_numpy()).flatten().tolist()\n",
        "\n",
        "    # Calculate the contribution to the clustered standard error variance for each cluster\n",
        "    centererrors = [CalculateClusterErrorVar(X.loc[ExtractID(diffdata, sid)].to_numpy(),residuals[ExtractID(diffdata, sid)]) for sid in ListofIds]\n",
        "\n",
        "    # Sum up the contributions from all clusters\n",
        "    totalcentererrors = np.zeros((X_np.shape[1],X_np.shape[1]))\n",
        "    for submatrix in centererrors:\n",
        "        totalcentererrors = totalcentererrors + submatrix\n",
        "\n",
        "    # Calculate the clustered variance-covariance matrix\n",
        "    # var(beta) = (X'X)^-1 * (sum(X_g' * epsilon_g * epsilon_g' * X_g)) * (X'X)^-1 * correction_factor\n",
        "    # correction_factor = (G / (G - 1)) * ((N - 1) / (N - K))\n",
        "    # G is the number of clusters (len(ListofIds))\n",
        "    # N is the number of observations (X_np.shape[0])\n",
        "    # K is the number of independent variables (X_np.shape[1])\n",
        "    varc = np.dot(np.dot(XtX_inv,totalcentererrors),XtX_inv)*(len(ListofIds)/(len(ListofIds)-1))*((X_np.shape[0]-1)/(X_np.shape[0]-X_np.shape[1]))\n",
        "\n",
        "    # Calculate the clustered standard errors (square root of the diagonal elements of the variance-covariance matrix)\n",
        "    standard_errors = np.sqrt(np.diag(varc))\n",
        "\n",
        "    # Calculate the t-statistics\n",
        "    t_statistics = beta.T/standard_errors\n",
        "\n",
        "    # Calculate the p-values\n",
        "    # Degrees of freedom is the number of observations minus the number of parameters\n",
        "    degrees_freedom = X.shape[0] - X.shape[1]\n",
        "    # Use the survival function (1 - CDF) of the t-distribution and multiply by 2 for a two-sided test\n",
        "    p_values = np.array([stats.t.sf(np.abs(t_stat), degrees_freedom)*2 for t_stat in t_statistics])\n",
        "\n",
        "    # Return the results\n",
        "    return (beta, standard_errors, t_statistics, p_values, residuals, predicted_values)"
      ],
      "metadata": {
        "id": "5wwI3hsf_LY5"
      },
      "execution_count": 19,
      "outputs": []
    },
    {
      "cell_type": "code",
      "source": [
        "# Display regression result summary in a DataFrame\n",
        "def DisplayRegression(beta, standard_errors, t_statistics, p_values, X):\n",
        "    # Create a dictionary to hold the regression results\n",
        "    d = {\n",
        "        'Coef': beta.flatten().tolist(),  # The calculated coefficients\n",
        "        'se': standard_errors.flatten().tolist(),      # The standard errors of the coefficients\n",
        "        't': t_statistics.flatten().tolist(),        # The t-statistics for each coefficient\n",
        "        'P-Value': p_values.flatten().tolist() # The p-values for each t-statistic\n",
        "    }\n",
        "    # The index of the DataFrame will be the names of the independent variables (columns of X)\n",
        "    df = pd.DataFrame(data=d, index=X.columns.to_numpy())\n",
        "    # Print the DataFrame to display the regression summary\n",
        "    print(df)"
      ],
      "metadata": {
        "id": "UDvdKLPjYgXs"
      },
      "execution_count": 6,
      "outputs": []
    },
    {
      "cell_type": "code",
      "source": [
        "# Custom F-test comparing restricted vs. unrestricted model\n",
        "def FTest(residuals, Y, num_independent_vars):\n",
        "    # Create a DataFrame with a column of ones to represent the restricted model (only an intercept)\n",
        "    restricted_independent_vars = pd.DataFrame({'Intercept': np.ones(Y.shape[0])})\n",
        "    print(restricted_independent_vars.shape,restricted_independent_vars.columns)\n",
        "\n",
        "    # Calculate the sum of squared errors (SSE) for the unrestricted model\n",
        "    # The 'residuals' input are the residuals from the OLS regression of the unrestricted model\n",
        "    sse_unrestricted = np.sum(np.power(residuals, 2))\n",
        "\n",
        "    # Run OLS regression for the restricted model (Y regressed on only an intercept)\n",
        "    # We only need the errors from this regression\n",
        "    _, _, _, _, restricted_residuals, _ = OLS(restricted_independent_vars, Y)\n",
        "    # Calculate the sum of squared errors (SSE) for the restricted model\n",
        "    sse_restricted = np.sum(np.power(restricted_residuals, 2))\n",
        "\n",
        "    # Calculate the F-statistic using the formula:\n",
        "    # F = ((SSE_restricted - SSE_unrestricted) / (k_unrestricted - k_restricted)) / (SSE_unrestricted / (n - k_unrestricted))\n",
        "    # where:\n",
        "    # SSE_restricted is the sum of squared errors of the restricted model\n",
        "    # SSE_unrestricted is the sum of squared errors of the unrestricted model\n",
        "    # num_independent_vars is the number of independent variables in the unrestricted model\n",
        "    # k_restricted is the number of independent variables in the restricted model (which is 1 for only an intercept)\n",
        "    # n is the number of observations (Y.shape[0])\n",
        "    f_statistic = ((sse_restricted - sse_unrestricted) / (num_independent_vars - 1)) / (sse_unrestricted / (Y.shape[0] - num_independent_vars))\n",
        "    print(f_statistic)\n",
        "\n",
        "    # Calculate the p-value for the F-statistic\n",
        "    # stats.f.sf() calculates the survival function (1 - CDF) of the F-distribution\n",
        "    # We use the calculated F-statistic and the degrees of freedom for the numerator (num_independent_vars - 1) and denominator (Y.shape[0] - num_independent_vars)\n",
        "    f_p_value = stats.f.sf(f_statistic, num_independent_vars - 1, Y.shape[0] - num_independent_vars)\n",
        "    print(f_p_value)\n",
        "\n",
        "    # Return the calculated F-statistic and its p-value\n",
        "    return (f_statistic, f_p_value)"
      ],
      "metadata": {
        "id": "AUycHdWrYizV"
      },
      "execution_count": 7,
      "outputs": []
    },
    {
      "cell_type": "code",
      "source": [
        "def WhiteTest(errors, X):\n",
        "    # Convert errors DataFrame to NumPy array before flattening\n",
        "    _, _, _, _, unrestrictederrors, _ = OLS(X, pd.DataFrame({'Errors':errors.to_numpy().flatten()}))\n",
        "    return FTest(unrestrictederrors, pd.DataFrame({'Errors':errors.to_numpy().flatten()}), len(X.columns))"
      ],
      "metadata": {
        "id": "MbmOfRSE_Hry"
      },
      "execution_count": 8,
      "outputs": []
    },
    {
      "cell_type": "code",
      "source": [
        "def CalculateClusterErrorVar(xgroup, errorg):\n",
        "    # Calculate the contribution to the clustered standard error variance for a single cluster\n",
        "    # This is done by multiplying the transpose of the independent variables matrix for the cluster\n",
        "    # by the outer product of the error vector for the cluster, and then by the independent variables matrix for the cluster.\n",
        "    # Formula: X_g' * epsilon_g * epsilon_g' * X_g\n",
        "    return np.dot(np.dot(np.dot(xgroup.T, errorg), errorg.T), xgroup)"
      ],
      "metadata": {
        "id": "0uNaQb5-_L1w"
      },
      "execution_count": 10,
      "outputs": []
    },
    {
      "cell_type": "code",
      "source": [
        "def ExtractID(diffdata, sid):\n",
        "    # This function extracts the indices of rows in the diffdata DataFrame where the 'Id' column matches the given student ID (sid).\n",
        "    return diffdata[diffdata['Id']==sid].index.to_numpy().tolist()"
      ],
      "metadata": {
        "id": "V9m7VFqJ_Nq8"
      },
      "execution_count": 11,
      "outputs": []
    },
    {
      "cell_type": "code",
      "source": [
        "diffdata = dbQuery(conn)\n",
        "print(diffdata)"
      ],
      "metadata": {
        "colab": {
          "base_uri": "https://localhost:8080/"
        },
        "id": "Svnt-_h5Z3ig",
        "outputId": "75ccd5f4-33cd-4e67-feeb-590db803f107"
      },
      "execution_count": 13,
      "outputs": [
        {
          "output_type": "stream",
          "name": "stdout",
          "text": [
            "     Exam  Night   Id    GPA  Female      Diff    BScore    FScore  PastExam  \\\n",
            "0       1      0  103  3.228     0.0  0.111111  1.000000  0.888889      0.00   \n",
            "1       1      1  115  3.782     0.0  0.222222  1.000000  0.777778      0.00   \n",
            "2       1      0  119  3.159     1.0  0.000000  1.000000  1.000000      0.00   \n",
            "3       1      0  123  2.851     0.0 -0.050505  0.727273  0.777778      0.00   \n",
            "4       1      0  140  3.420     0.0  0.020202  0.909091  0.888889      0.00   \n",
            "..    ...    ...  ...    ...     ...       ...       ...       ...       ...   \n",
            "367     6      1  941    NaN     NaN -0.100000  0.400000  0.500000      0.60   \n",
            "368     6      1  947    NaN     NaN -0.200000  0.600000  0.800000      0.76   \n",
            "369     6      1  948    NaN     NaN  0.000000  0.600000  0.600000      0.88   \n",
            "370     6      1  975    NaN     NaN -0.100000  0.700000  0.800000      0.76   \n",
            "371     6      0  993    NaN     NaN  0.300000  0.600000  0.300000      0.76   \n",
            "\n",
            "     ExamScore  \n",
            "0     0.950000  \n",
            "1     0.923077  \n",
            "2     1.000000  \n",
            "3     0.750000  \n",
            "4     0.900000  \n",
            "..         ...  \n",
            "367   0.560000  \n",
            "368   0.760000  \n",
            "369   0.680000  \n",
            "370   0.800000  \n",
            "371   0.560000  \n",
            "\n",
            "[372 rows x 10 columns]\n"
          ]
        }
      ]
    },
    {
      "cell_type": "code",
      "source": [
        "# OLS regression\n",
        "Y, X = dmatrices('Diff ~ Night + C(Exam) - 1', data=diffdata, return_type='dataframe')\n",
        "print(X.shape, X.columns)\n",
        "print(Y.shape, Y.columns)"
      ],
      "metadata": {
        "colab": {
          "base_uri": "https://localhost:8080/"
        },
        "id": "gws-T57vZ-vw",
        "outputId": "3c8a3087-3cf3-44ae-eb8d-abc3825fbf0f"
      },
      "execution_count": 14,
      "outputs": [
        {
          "output_type": "stream",
          "name": "stdout",
          "text": [
            "(372, 7) Index(['C(Exam)[1]', 'C(Exam)[2]', 'C(Exam)[3]', 'C(Exam)[4]', 'C(Exam)[5]',\n",
            "       'C(Exam)[6]', 'Night'],\n",
            "      dtype='object')\n",
            "(372, 1) Index(['Diff'], dtype='object')\n"
          ]
        }
      ]
    },
    {
      "cell_type": "code",
      "source": [
        "# OLS Regression\n",
        "print(\"OLS Regression\")\n",
        "betaOLS, standard_errorsOLS, t_statisticsOLS, p_valuesOLS, errorOLS, predictionOLS = OLS(X, Y)\n",
        "print(betaOLS.shape)\n",
        "print(standard_errorsOLS.shape)\n",
        "print(t_statisticsOLS.shape)\n",
        "print(p_valuesOLS.shape)\n",
        "print(errorOLS.shape)\n",
        "print(predictionOLS.shape)\n",
        "DisplayRegression(betaOLS, standard_errorsOLS, t_statisticsOLS, p_valuesOLS, X)"
      ],
      "metadata": {
        "colab": {
          "base_uri": "https://localhost:8080/"
        },
        "id": "XHmkIFmNaycl",
        "outputId": "21c83659-d202-44ea-ffc9-014690bc960e"
      },
      "execution_count": 21,
      "outputs": [
        {
          "output_type": "stream",
          "name": "stdout",
          "text": [
            "OLS Regression\n",
            "(7, 1)\n",
            "(7,)\n",
            "(1, 7)\n",
            "(1, 7)\n",
            "(372, 1)\n",
            "(372, 1)\n",
            "                Coef        se         t   P-Value\n",
            "C(Exam)[1]  0.064307  0.022901  2.808021  0.005253\n",
            "C(Exam)[2]  0.056720  0.022901  2.476763  0.013710\n",
            "C(Exam)[3]  0.046314  0.022901  2.022362  0.043868\n",
            "C(Exam)[4]  0.053401  0.023319  2.290016  0.022590\n",
            "C(Exam)[5] -0.068608  0.023319 -2.942157  0.003467\n",
            "C(Exam)[6]  0.003828  0.023319  0.164160  0.869696\n",
            "Night      -0.039667  0.017337 -2.287977  0.022710\n"
          ]
        }
      ]
    },
    {
      "cell_type": "code",
      "source": [
        "# Perform OLS regression with White's heteroskedasticity-corrected standard errors.\n",
        "# This uses the custom RobustOLS function which calculates standard errors robust to heteroskedasticity.\n",
        "print(\"White's Corrected Robult OLS Regression\")\n",
        "betaROLS, standard_errorsROLS, t_statisticsROLS, p_valuesROLS, errorROLS, predictionROLS = RobustOLS(X, Y)\n",
        "print(betaROLS.shape)\n",
        "print(standard_errorsROLS.shape)\n",
        "print(t_statisticsROLS.shape)\n",
        "print(p_valuesROLS.shape)\n",
        "print(errorROLS.shape)\n",
        "print(predictionROLS.shape)\n",
        "DisplayRegression(betaROLS, standard_errorsROLS, t_statisticsROLS, p_valuesROLS, X)"
      ],
      "metadata": {
        "colab": {
          "base_uri": "https://localhost:8080/"
        },
        "id": "eiMDiYJA_069",
        "outputId": "68949059-7d54-466f-fcc9-e411efe897d0"
      },
      "execution_count": 34,
      "outputs": [
        {
          "output_type": "stream",
          "name": "stdout",
          "text": [
            "White's Corrected Robult OLS Regression\n",
            "(7, 1)\n",
            "(7,)\n",
            "(1, 7)\n",
            "(1, 7)\n",
            "(372, 1)\n",
            "(372, 1)\n",
            "                Coef        se         t   P-Value\n",
            "C(Exam)[1]  0.064307  0.020256  3.174638  0.001628\n",
            "C(Exam)[2]  0.056720  0.024092  2.354327  0.019085\n",
            "C(Exam)[3]  0.046314  0.022008  2.104450  0.036023\n",
            "C(Exam)[4]  0.053401  0.020856  2.560436  0.010856\n",
            "C(Exam)[5] -0.068608  0.020827 -3.294129  0.001084\n",
            "C(Exam)[6]  0.003828  0.030251  0.126541  0.899373\n",
            "Night      -0.039667  0.017306 -2.292068  0.022470\n"
          ]
        }
      ]
    },
    {
      "cell_type": "code",
      "source": [
        "# Cluster Corrected Regression\n",
        "# Perform OLS regression with clustered standard errors\n",
        "# This uses the custom ClusterOLS function which calculates standard errors clustered by student ID.\n",
        "print (\"Cluster Corrected Regression\")\n",
        "betaCOLS, standard_errorsCOLS, t_statisticsCOLS, p_valuesCOLS, errorCOLS, predictionCOLS = ClusterOLS(X, Y, diffdata)\n",
        "print(betaCOLS.shape)\n",
        "print(standard_errorsCOLS.shape)\n",
        "print(t_statisticsCOLS.shape)\n",
        "print(p_valuesCOLS.shape)\n",
        "print(errorCOLS.shape)\n",
        "print(predictionCOLS.shape)\n",
        "DisplayRegression(betaCOLS, standard_errorsCOLS, t_statisticsCOLS, p_valuesCOLS, X)"
      ],
      "metadata": {
        "colab": {
          "base_uri": "https://localhost:8080/"
        },
        "id": "g2oyPgPuGpTK",
        "outputId": "fcc99dd1-cb57-4e94-f405-0cedafb5e17a"
      },
      "execution_count": 23,
      "outputs": [
        {
          "output_type": "stream",
          "name": "stdout",
          "text": [
            "Cluster Corrected Regression\n",
            "(7, 1)\n",
            "(7,)\n",
            "(1, 7)\n",
            "(1, 7)\n",
            "(372, 1)\n",
            "(372, 1)\n",
            "                Coef        se         t   P-Value\n",
            "C(Exam)[1]  0.064307  0.020488  3.138744  0.001835\n",
            "C(Exam)[2]  0.056720  0.023668  2.396489  0.017056\n",
            "C(Exam)[3]  0.046314  0.021586  2.145582  0.032565\n",
            "C(Exam)[4]  0.053401  0.021462  2.488190  0.013285\n",
            "C(Exam)[5] -0.068608  0.021674 -3.165460  0.001679\n",
            "C(Exam)[6]  0.003828  0.030980  0.123566  0.901727\n",
            "Night      -0.039667  0.018605 -2.132085  0.033667\n"
          ]
        }
      ]
    },
    {
      "cell_type": "code",
      "source": [
        "# Run F-Test to tests the joint significance of the independent variables in the model\n",
        "f_statistic, f_p_value = FTest(errorOLS, Y, len(X.columns))\n",
        "print(f_statistic)\n",
        "print(f_p_value[0])"
      ],
      "metadata": {
        "colab": {
          "base_uri": "https://localhost:8080/"
        },
        "id": "5ot8nHk7cJi0",
        "outputId": "8266eda6-19ce-46f0-bf70-701734f6619a"
      },
      "execution_count": 24,
      "outputs": [
        {
          "output_type": "stream",
          "name": "stdout",
          "text": [
            "(372, 1) Index(['Intercept'], dtype='object')\n",
            "Diff    5.539742\n",
            "dtype: float64\n",
            "[1.64347809e-05]\n",
            "Diff    5.539742\n",
            "dtype: float64\n",
            "1.6434780856748895e-05\n"
          ]
        },
        {
          "output_type": "stream",
          "name": "stderr",
          "text": [
            "/usr/local/lib/python3.12/dist-packages/numpy/_core/fromnumeric.py:84: FutureWarning: The behavior of DataFrame.sum with axis=None is deprecated, in a future version this will reduce over both axes and return a scalar. To retain the old behavior, pass axis=0 (or do not pass axis)\n",
            "  return reduction(axis=axis, out=out, **passkwargs)\n",
            "/usr/local/lib/python3.12/dist-packages/numpy/_core/fromnumeric.py:84: FutureWarning: The behavior of DataFrame.sum with axis=None is deprecated, in a future version this will reduce over both axes and return a scalar. To retain the old behavior, pass axis=0 (or do not pass axis)\n",
            "  return reduction(axis=axis, out=out, **passkwargs)\n"
          ]
        }
      ]
    },
    {
      "cell_type": "code",
      "metadata": {
        "colab": {
          "base_uri": "https://localhost:8080/"
        },
        "id": "041ebec7",
        "outputId": "5d5b780a-74ac-456b-b09b-a53f66d542f2"
      },
      "source": [
        "# White Test for Heteroskedasticity\n",
        "# This test checks if the variance of the errors from the OLS regression is constant (homoskedastic)  or varies across the independent variables (heteroskedastic).\n",
        "# A low p-value (typically < 0.05) indicates the presence of heteroskedasticity.\n",
        "\n",
        "# Construct the test matrix for the White test. This matrix includes the predicted values\n",
        "# from the OLS regression and their squares.\n",
        "testmatrix = np.hstack((np.ones(predictionOLS.shape[0])[np.newaxis].T,predictionOLS,np.power(predictionOLS,2)))\n",
        "\n",
        "# Perform the White test by regressing the squared OLS residuals on the test matrix.\n",
        "# The FTest function is used to calculate the F-statistic and p-value for this auxiliary regression.\n",
        "f_statistic, f_p_value = WhiteTest(np.power(errorOLS,2), pd.DataFrame(testmatrix))\n",
        "print(f_statistic[0],f_p_value[0])"
      ],
      "execution_count": 46,
      "outputs": [
        {
          "output_type": "stream",
          "name": "stdout",
          "text": [
            "(372, 1) Index(['Intercept'], dtype='object')\n",
            "Errors    4.878737\n",
            "dtype: float64\n",
            "[0.0081044]\n",
            "4.8787371403334 0.008104401990790721\n"
          ]
        },
        {
          "output_type": "stream",
          "name": "stderr",
          "text": [
            "/usr/local/lib/python3.12/dist-packages/numpy/_core/fromnumeric.py:84: FutureWarning: The behavior of DataFrame.sum with axis=None is deprecated, in a future version this will reduce over both axes and return a scalar. To retain the old behavior, pass axis=0 (or do not pass axis)\n",
            "  return reduction(axis=axis, out=out, **passkwargs)\n",
            "/usr/local/lib/python3.12/dist-packages/numpy/_core/fromnumeric.py:84: FutureWarning: The behavior of DataFrame.sum with axis=None is deprecated, in a future version this will reduce over both axes and return a scalar. To retain the old behavior, pass axis=0 (or do not pass axis)\n",
            "  return reduction(axis=axis, out=out, **passkwargs)\n",
            "/tmp/ipython-input-943529136.py:14: FutureWarning: Series.__getitem__ treating keys as positions is deprecated. In a future version, integer keys will always be treated as labels (consistent with DataFrame behavior). To access a value by position, use `ser.iloc[pos]`\n",
            "  print(f_statistic[0],f_p_value[0])\n"
          ]
        }
      ]
    },
    {
      "cell_type": "code",
      "source": [
        "def plot_regression_coefficients(results):\n",
        "    # Extract coefficients and confidence intervals\n",
        "    coefs = results.params\n",
        "    conf = results.conf_int()\n",
        "    conf.columns = ['2.5%', '97.5%']\n",
        "\n",
        "    coef_df = pd.DataFrame({\n",
        "        'coef': coefs,\n",
        "        'lower': conf['2.5%'],\n",
        "        'upper': conf['97.5%']\n",
        "    })\n",
        "\n",
        "    # Plot coefficients with 95% CI\n",
        "    plt.figure(figsize=(8,6))\n",
        "    plt.errorbar(\n",
        "        x=coef_df.index,\n",
        "        y=coef_df['coef'],\n",
        "        yerr=[coef_df['coef'] - coef_df['lower'], coef_df['upper'] - coef_df['coef']],\n",
        "        fmt='o', capsize=5, color='blue'\n",
        "    )\n",
        "    plt.axhline(0, color='red', linestyle='--')  # Zero line for reference\n",
        "    plt.xticks(rotation=45)\n",
        "    plt.ylabel('Coefficient Value')\n",
        "    plt.title('OLS Coefficients with 95% Confidence Intervals')\n",
        "    plt.tight_layout()\n",
        "    plt.show()\n"
      ],
      "metadata": {
        "id": "SDJcvFAEZAZU"
      },
      "execution_count": 44,
      "outputs": []
    },
    {
      "cell_type": "code",
      "source": [
        "# Check result with statsmodels for verification\n",
        "results2 = sm.ols(formula=\"Diff ~ Night + C(Exam) - 1\", data=diffdata).fit()\n",
        "print(results2.summary2())\n",
        "plot_regression_coefficients(results2)"
      ],
      "metadata": {
        "id": "7kQYybITYoZI",
        "colab": {
          "base_uri": "https://localhost:8080/",
          "height": 1000
        },
        "outputId": "6e8153c5-0bf3-435b-a080-6efaadecaadc"
      },
      "execution_count": 45,
      "outputs": [
        {
          "output_type": "stream",
          "name": "stdout",
          "text": [
            "                 Results: Ordinary least squares\n",
            "==================================================================\n",
            "Model:              OLS              Adj. R-squared:     0.068    \n",
            "Dependent Variable: Diff             AIC:                -269.9873\n",
            "Date:               2025-09-22 01:11 BIC:                -242.5551\n",
            "No. Observations:   372              Log-Likelihood:     141.99   \n",
            "Df Model:           6                F-statistic:        5.540    \n",
            "Df Residuals:       365              Prob (F-statistic): 1.64e-05 \n",
            "R-squared:          0.083            Scale:              0.027812 \n",
            "-------------------------------------------------------------------\n",
            "                Coef.   Std.Err.     t     P>|t|    [0.025   0.975]\n",
            "-------------------------------------------------------------------\n",
            "C(Exam)[1]      0.0643    0.0229   2.8080  0.0053   0.0193   0.1093\n",
            "C(Exam)[2]      0.0567    0.0229   2.4768  0.0137   0.0117   0.1018\n",
            "C(Exam)[3]      0.0463    0.0229   2.0224  0.0439   0.0013   0.0913\n",
            "C(Exam)[4]      0.0534    0.0233   2.2900  0.0226   0.0075   0.0993\n",
            "C(Exam)[5]     -0.0686    0.0233  -2.9422  0.0035  -0.1145  -0.0228\n",
            "C(Exam)[6]      0.0038    0.0233   0.1642  0.8697  -0.0420   0.0497\n",
            "Night          -0.0397    0.0173  -2.2880  0.0227  -0.0738  -0.0056\n",
            "------------------------------------------------------------------\n",
            "Omnibus:               3.350        Durbin-Watson:           1.996\n",
            "Prob(Omnibus):         0.187        Jarque-Bera (JB):        3.246\n",
            "Skew:                  0.149        Prob(JB):                0.197\n",
            "Kurtosis:              3.348        Condition No.:           3    \n",
            "==================================================================\n",
            "Notes:\n",
            "[1] Standard Errors assume that the covariance matrix of the\n",
            "errors is correctly specified.\n"
          ]
        },
        {
          "output_type": "display_data",
          "data": {
            "text/plain": [
              "<Figure size 800x600 with 1 Axes>"
            ],
            "image/png": "[encoded data removed]"
          },
          "metadata": {}
        }
      ]
    },
    {
      "cell_type": "code",
      "source": [
        "# Check Results with StatsModels\n",
        "results3 = sm.ols(formula=\"Diff ~ Night + C(Exam)-1\", data=diffdata).fit()\n",
        "print(results3.summary2())\n",
        "\n",
        "print(\"OLS SE\")\n",
        "print(results3.bse)\n",
        "\n",
        "print(\"Robust SE\")\n",
        "print(results3.HC1_se)\n",
        "\n",
        "results3_robust = results3.get_robustcov_results('cluster',groups=diffdata[['Id']].to_numpy().squeeze())\n",
        "print(\"Cluster SE\")\n",
        "print(results3_robust.bse)"
      ],
      "metadata": {
        "colab": {
          "base_uri": "https://localhost:8080/"
        },
        "id": "vq18RHEe_3BS",
        "outputId": "c098401c-24cb-4b47-95f4-e855e3d3e1dd"
      },
      "execution_count": 47,
      "outputs": [
        {
          "output_type": "stream",
          "name": "stdout",
          "text": [
            "                 Results: Ordinary least squares\n",
            "==================================================================\n",
            "Model:              OLS              Adj. R-squared:     0.068    \n",
            "Dependent Variable: Diff             AIC:                -269.9873\n",
            "Date:               2025-09-22 01:25 BIC:                -242.5551\n",
            "No. Observations:   372              Log-Likelihood:     141.99   \n",
            "Df Model:           6                F-statistic:        5.540    \n",
            "Df Residuals:       365              Prob (F-statistic): 1.64e-05 \n",
            "R-squared:          0.083            Scale:              0.027812 \n",
            "-------------------------------------------------------------------\n",
            "                Coef.   Std.Err.     t     P>|t|    [0.025   0.975]\n",
            "-------------------------------------------------------------------\n",
            "C(Exam)[1]      0.0643    0.0229   2.8080  0.0053   0.0193   0.1093\n",
            "C(Exam)[2]      0.0567    0.0229   2.4768  0.0137   0.0117   0.1018\n",
            "C(Exam)[3]      0.0463    0.0229   2.0224  0.0439   0.0013   0.0913\n",
            "C(Exam)[4]      0.0534    0.0233   2.2900  0.0226   0.0075   0.0993\n",
            "C(Exam)[5]     -0.0686    0.0233  -2.9422  0.0035  -0.1145  -0.0228\n",
            "C(Exam)[6]      0.0038    0.0233   0.1642  0.8697  -0.0420   0.0497\n",
            "Night          -0.0397    0.0173  -2.2880  0.0227  -0.0738  -0.0056\n",
            "------------------------------------------------------------------\n",
            "Omnibus:               3.350        Durbin-Watson:           1.996\n",
            "Prob(Omnibus):         0.187        Jarque-Bera (JB):        3.246\n",
            "Skew:                  0.149        Prob(JB):                0.197\n",
            "Kurtosis:              3.348        Condition No.:           3    \n",
            "==================================================================\n",
            "Notes:\n",
            "[1] Standard Errors assume that the covariance matrix of the\n",
            "errors is correctly specified.\n",
            "OLS SE\n",
            "C(Exam)[1]    0.022901\n",
            "C(Exam)[2]    0.022901\n",
            "C(Exam)[3]    0.022901\n",
            "C(Exam)[4]    0.023319\n",
            "C(Exam)[5]    0.023319\n",
            "C(Exam)[6]    0.023319\n",
            "Night         0.017337\n",
            "dtype: float64\n",
            "Robust SE\n",
            "C(Exam)[1]    0.020256\n",
            "C(Exam)[2]    0.024092\n",
            "C(Exam)[3]    0.022008\n",
            "C(Exam)[4]    0.020856\n",
            "C(Exam)[5]    0.020827\n",
            "C(Exam)[6]    0.030251\n",
            "Night         0.017306\n",
            "dtype: float64\n",
            "Cluster SE\n",
            "[0.020488   0.02366814 0.02158583 0.02146165 0.02167391 0.03097951\n",
            " 0.01860486]\n"
          ]
        }
      ]
    },
    {
      "cell_type": "code",
      "metadata": {
        "id": "38add5a0"
      },
      "source": [
        "def plot_comparison_chart(ols_results, robust_results_hc1, robust_results_cluster):\n",
        "    \"\"\"\n",
        "    Plots a comparison chart of coefficients, standard errors, t-statistics, and p-values\n",
        "    from OLS, Robust (HC1), and Clustered regressions.\n",
        "    \"\"\"\n",
        "\n",
        "    # Extract data for comparison\n",
        "    data = {\n",
        "        'OLS_Coef': ols_results.params,\n",
        "        'OLS_SE': ols_results.bse,\n",
        "        'OLS_t': ols_results.tvalues,\n",
        "        'OLS_PValue': ols_results.pvalues,\n",
        "        'RobustHC1_Coef': robust_results_hc1.params,\n",
        "        'RobustHC1_SE': robust_results_hc1.HC1_se,\n",
        "        'RobustHC1_t': robust_results_hc1.tvalues,\n",
        "        'RobustHC1_PValue': robust_results_hc1.pvalues,\n",
        "        'Cluster_Coef': robust_results_cluster.params,\n",
        "        'Cluster_SE': robust_results_cluster.bse,\n",
        "        'Cluster_t': robust_results_cluster.tvalues,\n",
        "        'Cluster_PValue': robust_results_cluster.pvalues\n",
        "    }\n",
        "\n",
        "    df_comparison = pd.DataFrame(data)\n",
        "\n",
        "    # Plotting\n",
        "    fig, axes = plt.subplots(nrows=4, ncols=1, figsize=(12, 16), sharex=True)\n",
        "\n",
        "    # Plot Coefficients\n",
        "    df_comparison[['OLS_Coef', 'RobustHC1_Coef', 'Cluster_Coef']].plot(kind='bar', ax=axes[0])\n",
        "    axes[0].set_ylabel('Coefficient')\n",
        "    axes[0].set_title('Comparison of Coefficients')\n",
        "    axes[0].tick_params(axis='x', rotation=45)\n",
        "\n",
        "\n",
        "    # Plot Standard Errors\n",
        "    df_comparison[['OLS_SE', 'RobustHC1_SE', 'Cluster_SE']].plot(kind='bar', ax=axes[1])\n",
        "    axes[1].set_ylabel('Standard Error')\n",
        "    axes[1].set_title('Comparison of Standard Errors')\n",
        "    axes[1].tick_params(axis='x', rotation=45)\n",
        "\n",
        "    # Plot t-statistics\n",
        "    df_comparison[['OLS_t', 'RobustHC1_t', 'Cluster_t']].plot(kind='bar', ax=axes[2])\n",
        "    axes[2].set_ylabel('t-statistic')\n",
        "    axes[2].set_title('Comparison of t-statistics')\n",
        "    axes[2].tick_params(axis='x', rotation=45)\n",
        "\n",
        "    # Plot p-values\n",
        "    df_comparison[['OLS_PValue', 'RobustHC1_PValue', 'Cluster_PValue']].plot(kind='bar', ax=axes[3])\n",
        "    axes[3].set_ylabel('P-Value')\n",
        "    axes[3].set_title('Comparison of P-Values')\n",
        "    axes[3].axhline(0.05, color='red', linestyle='--', linewidth=1, label='0.05 Significance Level')\n",
        "    axes[3].legend()\n",
        "    axes[3].tick_params(axis='x', rotation=45)\n",
        "\n",
        "\n",
        "    plt.tight_layout()\n",
        "    plt.show()\n",
        "\n"
      ],
      "execution_count": 48,
      "outputs": []
    },
    {
      "cell_type": "code",
      "source": [
        "# Generate the comparison plot using the existing results\n",
        "plot_comparison_chart(results2, results3, results3_robust)"
      ],
      "metadata": {
        "colab": {
          "base_uri": "https://localhost:8080/",
          "height": 1000
        },
        "id": "ASbkIiYR6t55",
        "outputId": "2706ef05-5ead-4f95-f26a-1d0566d09e18"
      },
      "execution_count": 49,
      "outputs": [
        {
          "output_type": "display_data",
          "data": {
            "text/plain": [
              "<Figure size 1200x1600 with 4 Axes>"
            ],
            "image/png": "[encoded data removed]"
          },
          "metadata": {}
        }
      ]
    },
    {
      "cell_type": "code",
      "source": [
        "\n"
      ],
      "metadata": {
        "id": "GtbJuYl3_JPx"
      },
      "execution_count": null,
      "outputs": []
    },
    {
      "cell_type": "markdown",
      "source": [],
      "metadata": {
        "id": "GAhBl1qmZDUU"
      }
    }
  ]
}