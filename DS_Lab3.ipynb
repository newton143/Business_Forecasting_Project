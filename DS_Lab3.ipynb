{
  "nbformat": 4,
  "nbformat_minor": 0,
  "metadata": {
    "colab": {
      "provenance": [],
      "authorship_tag": "ABX9TyNNzY0GeVAhmpYRd1NX65dT",
      "include_colab_link": true
    },
    "kernelspec": {
      "name": "python3",
      "display_name": "Python 3"
    },
    "language_info": {
      "name": "python"
    }
  },
  "cells": [
    {
      "cell_type": "markdown",
      "metadata": {
        "id": "view-in-github",
        "colab_type": "text"
      },
      "source": [
        "<a href=\"https://colab.research.google.com/github/newton143/Business_Forecasting_Project/blob/main/DS_Lab3.ipynb\" target=\"_parent\"><img src=\"https://colab.research.google.com/assets/colab-badge.svg\" alt=\"Open In Colab\"/></a>"
      ]
    },
    {
      "source": [
        "!pip install pandasql pandas-datareader rankbasedmontecarlo smithwagnercv casseysmithcv projectassessment"
      ],
      "cell_type": "code",
      "metadata": {
        "colab": {
          "base_uri": "https://localhost:8080/"
        },
        "id": "briogUsrRyZo",
        "outputId": "b9b9b18a-e810-48ce-a8b1-1c6374599266"
      },
      "execution_count": 1,
      "outputs": [
        {
          "output_type": "stream",
          "name": "stdout",
          "text": [
            "Collecting pandasql\n",
            "  Downloading pandasql-0.7.3.tar.gz (26 kB)\n",
            "  Preparing metadata (setup.py) ... \u001b[?25l\u001b[?25hdone\n",
            "Requirement already satisfied: pandas-datareader in /usr/local/lib/python3.12/dist-packages (0.10.0)\n",
            "Collecting rankbasedmontecarlo\n",
            "  Downloading rankbasedmontecarlo-0.1.4-py3-none-any.whl.metadata (2.8 kB)\n",
            "Collecting smithwagnercv\n",
            "  Downloading smithwagnercv-0.1.0-py3-none-any.whl.metadata (2.0 kB)\n",
            "Collecting casseysmithcv\n",
            "  Downloading casseysmithcv-0.1.0-py3-none-any.whl.metadata (2.2 kB)\n",
            "Collecting projectassessment\n",
            "  Downloading projectassessment-0.3.8-py3-none-any.whl.metadata (8.3 kB)\n",
            "Requirement already satisfied: numpy in /usr/local/lib/python3.12/dist-packages (from pandasql) (2.0.2)\n",
            "Requirement already satisfied: pandas in /usr/local/lib/python3.12/dist-packages (from pandasql) (2.2.2)\n",
            "Requirement already satisfied: sqlalchemy in /usr/local/lib/python3.12/dist-packages (from pandasql) (2.0.43)\n",
            "Requirement already satisfied: lxml in /usr/local/lib/python3.12/dist-packages (from pandas-datareader) (5.4.0)\n",
            "Requirement already satisfied: requests>=2.19.0 in /usr/local/lib/python3.12/dist-packages (from pandas-datareader) (2.32.4)\n",
            "Requirement already satisfied: tqdm>=4.26.0 in /usr/local/lib/python3.12/dist-packages (from rankbasedmontecarlo) (4.67.1)\n",
            "Requirement already satisfied: numba>=0.54.0 in /usr/local/lib/python3.12/dist-packages (from projectassessment) (0.60.0)\n",
            "Requirement already satisfied: scipy>=1.4.0 in /usr/local/lib/python3.12/dist-packages (from projectassessment) (1.16.2)\n",
            "Requirement already satisfied: llvmlite<0.44,>=0.43.0dev0 in /usr/local/lib/python3.12/dist-packages (from numba>=0.54.0->projectassessment) (0.43.0)\n",
            "Requirement already satisfied: python-dateutil>=2.8.2 in /usr/local/lib/python3.12/dist-packages (from pandas->pandasql) (2.9.0.post0)\n",
            "Requirement already satisfied: pytz>=2020.1 in /usr/local/lib/python3.12/dist-packages (from pandas->pandasql) (2025.2)\n",
            "Requirement already satisfied: tzdata>=2022.7 in /usr/local/lib/python3.12/dist-packages (from pandas->pandasql) (2025.2)\n",
            "Requirement already satisfied: charset_normalizer<4,>=2 in /usr/local/lib/python3.12/dist-packages (from requests>=2.19.0->pandas-datareader) (3.4.3)\n",
            "Requirement already satisfied: idna<4,>=2.5 in /usr/local/lib/python3.12/dist-packages (from requests>=2.19.0->pandas-datareader) (3.10)\n",
            "Requirement already satisfied: urllib3<3,>=1.21.1 in /usr/local/lib/python3.12/dist-packages (from requests>=2.19.0->pandas-datareader) (2.5.0)\n",
            "Requirement already satisfied: certifi>=2017.4.17 in /usr/local/lib/python3.12/dist-packages (from requests>=2.19.0->pandas-datareader) (2025.8.3)\n",
            "Requirement already satisfied: greenlet>=1 in /usr/local/lib/python3.12/dist-packages (from sqlalchemy->pandasql) (3.2.4)\n",
            "Requirement already satisfied: typing-extensions>=4.6.0 in /usr/local/lib/python3.12/dist-packages (from sqlalchemy->pandasql) (4.15.0)\n",
            "Requirement already satisfied: six>=1.5 in /usr/local/lib/python3.12/dist-packages (from python-dateutil>=2.8.2->pandas->pandasql) (1.17.0)\n",
            "Downloading rankbasedmontecarlo-0.1.4-py3-none-any.whl (5.5 kB)\n",
            "Downloading smithwagnercv-0.1.0-py3-none-any.whl (4.9 kB)\n",
            "Downloading casseysmithcv-0.1.0-py3-none-any.whl (5.3 kB)\n",
            "Downloading projectassessment-0.3.8-py3-none-any.whl (11 kB)\n",
            "Building wheels for collected packages: pandasql\n",
            "  Building wheel for pandasql (setup.py) ... \u001b[?25l\u001b[?25hdone\n",
            "  Created wheel for pandasql: filename=pandasql-0.7.3-py3-none-any.whl size=26773 sha256=d54e2a66f9dc28e01d1bddbc938d8e573f7e0f71edcb66430b41825e3b5b0c96\n",
            "  Stored in directory: /root/.cache/pip/wheels/15/a1/e7/6f92f295b5272ae5c02365e6b8fa19cb93f16a537090a1cf27\n",
            "Successfully built pandasql\n",
            "Installing collected packages: smithwagnercv, rankbasedmontecarlo, projectassessment, pandasql, casseysmithcv\n",
            "Successfully installed casseysmithcv-0.1.0 pandasql-0.7.3 projectassessment-0.3.8 rankbasedmontecarlo-0.1.4 smithwagnercv-0.1.0\n"
          ]
        }
      ]
    },
    {
      "cell_type": "code",
      "source": [
        "#!/usr/bin/python\n",
        "import sqlite3\n",
        "import numpy as np\n",
        "import pandas as pd\n",
        "from patsy import dmatrices\n",
        "from scipy import stats\n",
        "import statsmodels.formula.api as sm\n",
        "import matplotlib.pyplot as plt\n",
        "from scipy.stats import norm"
      ],
      "metadata": {
        "id": "XlArEQe3XdqN"
      },
      "execution_count": 2,
      "outputs": []
    },
    {
      "cell_type": "code",
      "source": [
        "# Connection Data DB\n",
        "conn = sqlite3.connect('/content/sample_data/data.db')\n",
        "\n",
        "# Test DB Connection\n",
        "print(conn.cursor().execute(\"\"\"\n",
        "        SELECT\n",
        "            exam,\n",
        "            studentid,\n",
        "            AVG(correct) AS exam_score\n",
        "        FROM answer\n",
        "        GROUP BY exam, studentid;\n",
        "        \"\"\").fetchall())"
      ],
      "metadata": {
        "colab": {
          "base_uri": "https://localhost:8080/"
        },
        "id": "Wy0dbM_7PX0I",
        "outputId": "f52bedd9-d171-4e17-d5f2-25d6e086b4dc"
      },
      "execution_count": 3,
      "outputs": [
        {
          "output_type": "stream",
          "name": "stdout",
          "text": [
            "[(1, 103, 0.95), (1, 115, 0.9230769230769231), (1, 119, 1.0), (1, 123, 0.75), (1, 140, 0.9), (1, 151, 0.95), (1, 212, 0.9), (1, 214, 0.75), (1, 253, 0.8076923076923077), (1, 256, 0.9), (1, 291, 0.5769230769230769), (1, 307, 1.0), (1, 314, 0.9), (1, 326, 0.8461538461538461), (1, 337, 0.9615384615384616), (1, 342, 0.9), (1, 363, 0.8076923076923077), (1, 389, 0.95), (1, 390, 0.8846153846153846), (1, 395, 0.8846153846153846), (1, 398, 0.8846153846153846), (1, 403, 0.75), (1, 419, 0.8076923076923077), (1, 427, 0.95), (1, 432, 0.9230769230769231), (1, 433, 0.8461538461538461), (1, 438, 0.8846153846153846), (1, 440, 0.8461538461538461), (1, 460, 0.8846153846153846), (1, 466, 0.7307692307692307), (1, 484, 1.0), (1, 490, 0.75), (1, 502, 0.9), (1, 506, 0.75), (1, 514, 0.95), (1, 533, 0.8461538461538461), (1, 581, 0.6538461538461539), (1, 596, 0.85), (1, 616, 0.95), (1, 623, 0.7692307692307693), (1, 656, 0.9615384615384616), (1, 673, 1.0), (1, 674, 0.8), (1, 692, 0.9), (1, 694, 0.6923076923076923), (1, 749, 0.8461538461538461), (1, 813, 0.8076923076923077), (1, 821, 0.8), (1, 859, 0.8461538461538461), (1, 863, 0.7), (1, 866, 0.7307692307692307), (1, 872, 0.95), (1, 877, 0.9), (1, 889, 0.9615384615384616), (1, 897, 0.6153846153846154), (1, 911, 0.8076923076923077), (1, 929, 0.85), (1, 932, 0.9), (1, 946, 0.9), (1, 969, 0.6538461538461539), (1, 970, 0.5769230769230769), (1, 973, 0.9230769230769231), (1, 986, 0.9615384615384616), (1, 989, 0.6923076923076923), (2, 103, 0.9), (2, 115, 0.6923076923076923), (2, 119, 0.7), (2, 123, 0.35), (2, 140, 0.8), (2, 151, 1.0), (2, 212, 0.85), (2, 214, 0.7), (2, 253, 0.8846153846153846), (2, 256, 0.85), (2, 291, 0.6538461538461539), (2, 307, 0.7692307692307693), (2, 314, 0.85), (2, 326, 0.46153846153846156), (2, 337, 0.8846153846153846), (2, 342, 0.8), (2, 363, 0.9615384615384616), (2, 389, 0.9), (2, 390, 0.8461538461538461), (2, 395, 0.6923076923076923), (2, 398, 0.9230769230769231), (2, 403, 0.85), (2, 419, 0.7692307692307693), (2, 427, 0.9), (2, 432, 0.8076923076923077), (2, 433, 0.9230769230769231), (2, 438, 0.7307692307692307), (2, 440, 0.8076923076923077), (2, 460, 0.9230769230769231), (2, 466, 0.8076923076923077), (2, 484, 0.9230769230769231), (2, 490, 0.55), (2, 502, 0.85), (2, 506, 0.6), (2, 514, 0.75), (2, 533, 0.8461538461538461), (2, 581, 0.46153846153846156), (2, 596, 0.75), (2, 616, 0.7), (2, 623, 0.5769230769230769), (2, 656, 0.7692307692307693), (2, 673, 0.95), (2, 674, 0.8), (2, 692, 0.9), (2, 694, 0.46153846153846156), (2, 749, 0.6923076923076923), (2, 813, 0.5384615384615384), (2, 821, 0.7), (2, 859, 0.5), (2, 863, 0.85), (2, 866, 0.8076923076923077), (2, 872, 0.6), (2, 877, 0.6), (2, 889, 0.8846153846153846), (2, 897, 0.5384615384615384), (2, 911, 0.8846153846153846), (2, 929, 0.95), (2, 932, 0.65), (2, 946, 0.95), (2, 969, 0.6538461538461539), (2, 970, 0.7692307692307693), (2, 973, 0.9615384615384616), (2, 986, 0.7307692307692307), (2, 989, 0.8461538461538461), (3, 103, 0.8260869565217391), (3, 115, 0.6521739130434783), (3, 119, 0.8260869565217391), (3, 123, 0.782608695652174), (3, 140, 0.782608695652174), (3, 151, 0.9130434782608695), (3, 212, 0.6521739130434783), (3, 214, 0.5217391304347826), (3, 253, 0.5217391304347826), (3, 256, 0.7391304347826086), (3, 291, 0.5217391304347826), (3, 307, 1.0), (3, 314, 0.8695652173913043), (3, 326, 0.391304347826087), (3, 337, 0.8260869565217391), (3, 342, 0.6086956521739131), (3, 363, 0.782608695652174), (3, 389, 0.782608695652174), (3, 390, 0.6521739130434783), (3, 395, 0.6956521739130435), (3, 398, 0.7391304347826086), (3, 403, 0.5652173913043478), (3, 419, 0.5652173913043478), (3, 427, 0.782608695652174), (3, 432, 0.5652173913043478), (3, 433, 0.8695652173913043), (3, 438, 0.5217391304347826), (3, 440, 0.43478260869565216), (3, 460, 0.782608695652174), (3, 466, 0.6956521739130435), (3, 484, 0.6956521739130435), (3, 490, 0.7391304347826086), (3, 502, 0.5652173913043478), (3, 506, 0.5652173913043478), (3, 514, 0.7391304347826086), (3, 533, 0.8695652173913043), (3, 581, 0.6521739130434783), (3, 596, 0.5652173913043478), (3, 616, 0.8260869565217391), (3, 623, 0.43478260869565216), (3, 656, 0.8260869565217391), (3, 673, 0.782608695652174), (3, 674, 0.6086956521739131), (3, 692, 0.9565217391304348), (3, 694, 0.4782608695652174), (3, 749, 0.5217391304347826), (3, 813, 0.6521739130434783), (3, 821, 0.6521739130434783), (3, 859, 0.6956521739130435), (3, 863, 0.6521739130434783), (3, 866, 0.34782608695652173), (3, 872, 0.6521739130434783), (3, 877, 0.6086956521739131), (3, 889, 0.8260869565217391), (3, 897, 0.4782608695652174), (3, 911, 0.782608695652174), (3, 929, 0.6956521739130435), (3, 932, 0.5652173913043478), (3, 946, 0.8260869565217391), (3, 969, 0.6086956521739131), (3, 970, 0.391304347826087), (3, 973, 0.6956521739130435), (3, 986, 0.4782608695652174), (3, 989, 0.6086956521739131), (4, 100, 0.72), (4, 118, 0.8), (4, 124, 0.56), (4, 153, 0.64), (4, 167, 0.6), (4, 169, 0.72), (4, 189, 0.92), (4, 193, 0.76), (4, 194, 0.68), (4, 203, 0.76), (4, 218, 0.68), (4, 237, 0.76), (4, 239, 0.56), (4, 242, 0.48), (4, 273, 0.68), (4, 276, 0.64), (4, 298, 0.6), (4, 302, 0.68), (4, 313, 0.88), (4, 317, 0.68), (4, 341, 0.76), (4, 356, 0.76), (4, 373, 0.8), (4, 392, 0.6), (4, 399, 0.48), (4, 407, 0.76), (4, 414, 0.6), (4, 437, 0.68), (4, 457, 0.8), (4, 485, 0.8), (4, 520, 0.56), (4, 544, 0.88), (4, 570, 0.84), (4, 585, 0.44), (4, 600, 0.8), (4, 618, 0.32), (4, 625, 0.68), (4, 627, 0.64), (4, 693, 0.72), (4, 742, 0.76), (4, 744, 0.76), (4, 746, 0.84), (4, 752, 0.88), (4, 777, 0.92), (4, 779, 0.84), (4, 847, 0.88), (4, 849, 0.88), (4, 867, 0.52), (4, 869, 0.72), (4, 876, 0.56), (4, 880, 0.92), (4, 886, 0.76), (4, 890, 0.76), (4, 899, 0.48), (4, 913, 0.68), (4, 941, 0.48), (4, 947, 0.6), (4, 948, 0.88), (4, 975, 0.92), (4, 993, 0.6), (5, 100, 0.8), (5, 118, 0.64), (5, 124, 0.76), (5, 153, 0.64), (5, 167, 0.72), (5, 169, 0.84), (5, 189, 0.6), (5, 193, 0.72), (5, 194, 0.84), (5, 203, 0.88), (5, 218, 0.44), (5, 237, 0.6), (5, 239, 0.44), (5, 242, 0.56), (5, 273, 0.76), (5, 276, 0.6), (5, 298, 0.8), (5, 302, 0.64), (5, 313, 0.84), (5, 317, 0.68), (5, 341, 0.88), (5, 356, 0.76), (5, 373, 0.64), (5, 392, 0.68), (5, 399, 0.88), (5, 407, 0.8), (5, 414, 0.6), (5, 437, 0.6), (5, 457, 0.96), (5, 485, 0.68), (5, 520, 0.72), (5, 544, 0.8), (5, 570, 0.88), (5, 585, 0.48), (5, 600, 0.72), (5, 618, 0.56), (5, 625, 0.56), (5, 627, 0.76), (5, 693, 0.76), (5, 742, 0.76), (5, 744, 0.52), (5, 746, 0.68), (5, 752, 0.88), (5, 777, 0.92), (5, 779, 0.84), (5, 847, 0.72), (5, 849, 0.76), (5, 867, 0.72), (5, 869, 0.6), (5, 876, 0.4), (5, 880, 0.92), (5, 886, 0.72), (5, 890, 0.64), (5, 899, 0.6), (5, 913, 0.76), (5, 941, 0.6), (5, 947, 0.76), (5, 948, 0.88), (5, 975, 0.76), (5, 993, 0.76), (6, 100, 0.84), (6, 118, 0.56), (6, 124, 0.52), (6, 153, 0.6), (6, 167, 0.68), (6, 169, 0.64), (6, 189, 0.96), (6, 193, 0.76), (6, 194, 0.76), (6, 203, 0.64), (6, 218, 0.72), (6, 237, 0.76), (6, 239, 0.52), (6, 242, 0.32), (6, 273, 0.72), (6, 276, 0.52), (6, 298, 0.56), (6, 302, 0.76), (6, 313, 0.6), (6, 317, 0.52), (6, 341, 0.52), (6, 356, 0.6), (6, 373, 0.6), (6, 392, 0.64), (6, 399, 0.64), (6, 407, 0.8), (6, 414, 0.76), (6, 437, 0.68), (6, 457, 0.88), (6, 485, 0.64), (6, 520, 0.68), (6, 544, 0.76), (6, 570, 0.76), (6, 585, 0.4), (6, 600, 0.72), (6, 618, 0.68), (6, 625, 0.72), (6, 627, 0.68), (6, 693, 0.8), (6, 742, 0.76), (6, 744, 0.56), (6, 746, 0.92), (6, 752, 0.76), (6, 777, 0.8), (6, 779, 0.84), (6, 847, 0.64), (6, 849, 0.76), (6, 867, 0.64), (6, 869, 0.64), (6, 876, 0.64), (6, 880, 0.44), (6, 886, 0.6), (6, 890, 0.4), (6, 899, 0.28), (6, 913, 0.6), (6, 941, 0.56), (6, 947, 0.76), (6, 948, 0.68), (6, 975, 0.8), (6, 993, 0.56)]\n"
          ]
        }
      ]
    },
    {
      "cell_type": "code",
      "source": [
        "# Data Query\n",
        "def dbQuery(conn):\n",
        "    query = \"\"\"\n",
        "    WITH front AS (\n",
        "        SELECT\n",
        "            a.exam,\n",
        "            a.studentid,\n",
        "            AVG(a.correct) AS front_score\n",
        "        FROM answer a\n",
        "        JOIN questions q ON a.exam = q.exam AND a.question_num = q.num\n",
        "        WHERE q.front = 1\n",
        "        GROUP BY a.exam, a.studentid\n",
        "    ),\n",
        "    back AS (\n",
        "        SELECT\n",
        "            a.exam,\n",
        "            a.studentid,\n",
        "            AVG(a.correct) AS back_score\n",
        "        FROM answer a\n",
        "        JOIN questions q ON a.exam = q.exam AND a.question_num = q.num\n",
        "        WHERE q.back = 1\n",
        "        GROUP BY a.exam, a.studentid\n",
        "    ),\n",
        "    score AS (\n",
        "        SELECT\n",
        "            exam,\n",
        "            studentid,\n",
        "            AVG(correct) AS exam_score\n",
        "        FROM answer\n",
        "        GROUP BY exam, studentid\n",
        "    ),\n",
        "    past_score AS (\n",
        "        SELECT\n",
        "            exam,\n",
        "            studentid,\n",
        "            AVG(correct) AS exam_score\n",
        "        FROM answer\n",
        "        GROUP BY exam, studentid\n",
        "    )\n",
        "\n",
        "    SELECT\n",
        "        f.exam AS Exam,\n",
        "        s.night AS Night,\n",
        "        f.studentid AS Id,\n",
        "        s.cum_gpa AS GPA,\n",
        "        s.female AS Female,\n",
        "        (b.back_score - f.front_score) AS Diff,\n",
        "        b.back_score AS BScore,\n",
        "        f.front_score AS FScore,\n",
        "        COALESCE(ps.exam_score, 0) AS PastExam,\n",
        "        sc.exam_score AS ExamScore\n",
        "\n",
        "    FROM front f\n",
        "    JOIN back b ON f.exam = b.exam AND f.studentid = b.studentid\n",
        "    JOIN score sc ON f.exam = sc.exam AND f.studentid = sc.studentid\n",
        "    LEFT JOIN past_score ps ON f.exam = ps.exam + 1 AND f.studentid = ps.studentid\n",
        "    JOIN student_details s ON f.studentid = s.studentid\n",
        "\n",
        "    ORDER BY f.exam, f.studentid;\n",
        "    \"\"\"\n",
        "    return pd.read_sql_query(query, conn)"
      ],
      "metadata": {
        "id": "UlPQWZMbYxEP"
      },
      "execution_count": 4,
      "outputs": []
    },
    {
      "cell_type": "code",
      "source": [
        "# OLS\n",
        "def OLS(X, Y):\n",
        "    X = X.to_numpy()\n",
        "    #Y = Y.to_numpy()\n",
        "\n",
        "    # Calculate the coefficients (beta) using the OLS formula: beta = (X'X)^-1 * X'Y\n",
        "    # X'X is the transpose of X multiplied by X\n",
        "    XtX = np.dot(X.T, X)\n",
        "    # (X'X)^-1 is the inverse of XtX\n",
        "    XtX_inv = np.linalg.inv(XtX)\n",
        "    # X'Y is the transpose of X multiplied by Y\n",
        "    XtY = np.dot(X.T, Y)\n",
        "    # beta is the matrix multiplication of (X'X)^-1 and X'Y\n",
        "    beta = np.dot(XtX_inv, XtY)\n",
        "\n",
        "    # Calculate the predicted values based on the calculated coefficients\n",
        "    predicted_values = np.dot(X, beta)\n",
        "\n",
        "    # Calculate the residuals (errors) by subtracting the predicted values from the actual values\n",
        "    residuals = Y - predicted_values\n",
        "\n",
        "    # Calculate the estimated variance of the errors (sigma squared)\n",
        "    # The sum of squared errors is the dot product of the residuals transpose and residuals\n",
        "    sum_sq_errors = np.dot(residuals.T, residuals)\n",
        "    # Degrees of freedom is the number of observations minus the number of parameters\n",
        "    degrees_freedom = X.shape[0] - X.shape[1]\n",
        "    sigma_squared = sum_sq_errors / degrees_freedom\n",
        "\n",
        "    # Calculate the standard errors of the coefficients\n",
        "    # The variances of the coefficients are the diagonal elements of sigma squared * (X'X)^-1\n",
        "    coef_variances = np.diag(sigma_squared * XtX_inv)\n",
        "    # The standard errors are the square roots of the variances\n",
        "    standard_errors = np.sqrt(coef_variances)\n",
        "\n",
        "    # Calculate the t-statistics for each coefficient\n",
        "    t_statistics = beta.T / standard_errors\n",
        "\n",
        "    # Calculate the p-values for each t-statistic\n",
        "    # Use the survival function (1 - CDF) of the t-distribution and multiply by 2 for a two-sided test\n",
        "    p_values = np.array([stats.t.sf(np.abs(t_stat), degrees_freedom) * 2 for t_stat in t_statistics])\n",
        "\n",
        "    # Return the calculated coefficients, standard errors, t-statistics, p-values, residuals, and predicted values\n",
        "    return (beta, standard_errors, t_statistics, p_values, residuals, predicted_values)"
      ],
      "metadata": {
        "id": "HPhY70ObYd75"
      },
      "execution_count": 5,
      "outputs": []
    },
    {
      "cell_type": "code",
      "source": [
        "# Display regression result summary in a DataFrame\n",
        "def DisplayRegression(beta, standard_errors, t_statistics, p_values, X):\n",
        "    # Create a dictionary to hold the regression results\n",
        "    d = {\n",
        "        'Coef': beta.flatten().tolist(),  # The calculated coefficients\n",
        "        'se': standard_errors.flatten().tolist(),      # The standard errors of the coefficients\n",
        "        't': t_statistics.flatten().tolist(),        # The t-statistics for each coefficient\n",
        "        'P-Value': p_values.flatten().tolist() # The p-values for each t-statistic\n",
        "    }\n",
        "    # The index of the DataFrame will be the names of the independent variables (columns of X)\n",
        "    df = pd.DataFrame(data=d, index=X.columns.to_numpy())\n",
        "    # Print the DataFrame to display the regression summary\n",
        "    print(df)"
      ],
      "metadata": {
        "id": "UDvdKLPjYgXs"
      },
      "execution_count": 6,
      "outputs": []
    },
    {
      "cell_type": "code",
      "source": [
        "def Boostrap(Y, X, R):\n",
        "    # Get the number of observations (n) and features (col) from the feature matrix X\n",
        "    n, col = X.shape\n",
        "    # Initialize a NumPy array to store the beta coefficients for each bootstrap replication\n",
        "    store_beta = np.zeros((R,col))\n",
        "    # Loop through the number of bootstrap replications (R)\n",
        "    for i in range(R):\n",
        "        # Generate a random sample of indices with replacement, of size n\n",
        "        this_sample = np.random.choice(range(n),n)\n",
        "        # Select the rows from X corresponding to the sampled indices\n",
        "        this_X = X.iloc[this_sample,:]\n",
        "        # Select the rows from Y corresponding to the sampled indices\n",
        "        this_Y = Y.iloc[this_sample]\n",
        "        # Perform OLS regression on the resampled data (this_X and this_Y)\n",
        "        this_beta, _, _, _, _, _ = OLS(this_X, this_Y)\n",
        "        # Store the calculated beta coefficients for the current replication\n",
        "        store_beta[i,:] = this_beta.flatten().tolist()\n",
        "    # Return a pandas DataFrame containing the stored beta coefficients, with column names from X\n",
        "    return pd.DataFrame(data=store_beta,columns=X.columns.to_numpy())"
      ],
      "metadata": {
        "id": "gpRlxsKP-adp"
      },
      "execution_count": 15,
      "outputs": []
    },
    {
      "cell_type": "code",
      "source": [
        "def ClusterBootstrap(data, equation, R):\n",
        "    # Use dmatrices to create the design matrices from the formula\n",
        "    Y, X = dmatrices(equation, data=data, return_type='dataframe')\n",
        "    # Get the number of columns (features) from the feature matrix X\n",
        "    _, col = X.shape\n",
        "    # Get the column names from the feature matrix X\n",
        "    colnames = X.columns.to_numpy()\n",
        "    # Delete Y and X to free up memory\n",
        "    del Y\n",
        "    del X\n",
        "    # Initialize a NumPy array to store the beta coefficients for each bootstrap replication\n",
        "    store_beta = np.zeros((R,col))\n",
        "    print (\"Boostrapping, replication...\")\n",
        "    # Get the unique student IDs for clustering\n",
        "    uids = data['Id'].unique()\n",
        "    # Get the number of unique student IDs\n",
        "    nuids = len(uids)\n",
        "    # Loop through the number of bootstrap replications (R)\n",
        "    for i in range(R):\n",
        "        # Randomly sample student IDs with replacement\n",
        "        ids = np.random.choice(uids,nuids)\n",
        "        # Select the rows from the original data corresponding to the sampled student IDs\n",
        "        this_sample = np.array([data[data['Id']==j].index for j in ids]).flatten().tolist()\n",
        "        # Create a new DataFrame with the sampled data\n",
        "        resultdata = data.loc[this_sample,:]\n",
        "        # Create the design matrices for the resampled data\n",
        "        this_Y, this_X = dmatrices(equation, data=resultdata, return_type='dataframe')\n",
        "        # Perform OLS regression on the resampled data\n",
        "        this_beta, _, _, _, _, _ = OLS(this_X, this_Y)\n",
        "        # Store the calculated beta coefficients for the current replication\n",
        "        store_beta[i,:] = this_beta.flatten().tolist()\n",
        "        # Print the replication progress every 50 iterations\n",
        "        if i % 50 == 0:\n",
        "            print (\"Replication... \" + str(i))\n",
        "    # Return a pandas DataFrame containing the stored beta coefficients, with the original column names\n",
        "    return pd.DataFrame(data=store_beta,columns=colnames)"
      ],
      "metadata": {
        "id": "cTHLb6dD-dwE"
      },
      "execution_count": 16,
      "outputs": []
    },
    {
      "cell_type": "code",
      "source": [
        "def DisplayBootstrapResults(boot, X):\n",
        "    # Initialize lists to store the results\n",
        "    lower_bounds = []\n",
        "    upper_bounds = []\n",
        "    p_values = []\n",
        "\n",
        "    # Calculate the results for each coefficient\n",
        "    for i in range(boot.shape[1]):\n",
        "        coef_values = boot.iloc[:, i]\n",
        "        # Calculate the 2.5th percentile (lower bound of 95% CI)\n",
        "        lower = coef_values.quantile(q=.025)\n",
        "        # Calculate the 97.5th percentile (upper bound of 95% CI)\n",
        "        upper = coef_values.quantile(q=.975)\n",
        "\n",
        "        # Calculate the p-value\n",
        "        # If the mean is negative, calculate the percentage of values less than or equal to zero and double it\n",
        "        # If the mean is positive, calculate the percentage of values greater than or equal to zero and double it\n",
        "        if coef_values.mean() < 0:\n",
        "            p_value = (1 - stats.percentileofscore(coef_values, 0) / 100) * 2\n",
        "        else:\n",
        "            p_value = stats.percentileofscore(coef_values, 0) / 100 * 2\n",
        "\n",
        "        lower_bounds.append(lower)\n",
        "        upper_bounds.append(upper)\n",
        "        p_values.append(p_value)\n",
        "\n",
        "    d = {\n",
        "        '0.025': lower_bounds,\n",
        "        '0.975': upper_bounds,\n",
        "        'P-Value': p_values\n",
        "    }\n",
        "\n",
        "    # Create a pandas DataFrame to display the bootstrap results\n",
        "    df = pd.DataFrame(data=d, index=X.columns.to_numpy())\n",
        "    # Print the DataFrame to display the results\n",
        "    print(df)\n",
        "    # Return the DataFrame\n",
        "    return df"
      ],
      "metadata": {
        "id": "ocCn0s4C-gN5"
      },
      "execution_count": 25,
      "outputs": []
    },
    {
      "cell_type": "code",
      "source": [
        "diffdata = dbQuery(conn)\n",
        "print(diffdata)"
      ],
      "metadata": {
        "colab": {
          "base_uri": "https://localhost:8080/"
        },
        "id": "Svnt-_h5Z3ig",
        "outputId": "6c69c410-fc47-4092-f7a2-185a5be3aaea"
      },
      "execution_count": 7,
      "outputs": [
        {
          "output_type": "stream",
          "name": "stdout",
          "text": [
            "     Exam  Night   Id    GPA  Female      Diff    BScore    FScore  PastExam  \\\n",
            "0       1      0  103  3.228     0.0  0.111111  1.000000  0.888889      0.00   \n",
            "1       1      1  115  3.782     0.0  0.222222  1.000000  0.777778      0.00   \n",
            "2       1      0  119  3.159     1.0  0.000000  1.000000  1.000000      0.00   \n",
            "3       1      0  123  2.851     0.0 -0.050505  0.727273  0.777778      0.00   \n",
            "4       1      0  140  3.420     0.0  0.020202  0.909091  0.888889      0.00   \n",
            "..    ...    ...  ...    ...     ...       ...       ...       ...       ...   \n",
            "367     6      1  941    NaN     NaN -0.100000  0.400000  0.500000      0.60   \n",
            "368     6      1  947    NaN     NaN -0.200000  0.600000  0.800000      0.76   \n",
            "369     6      1  948    NaN     NaN  0.000000  0.600000  0.600000      0.88   \n",
            "370     6      1  975    NaN     NaN -0.100000  0.700000  0.800000      0.76   \n",
            "371     6      0  993    NaN     NaN  0.300000  0.600000  0.300000      0.76   \n",
            "\n",
            "     ExamScore  \n",
            "0     0.950000  \n",
            "1     0.923077  \n",
            "2     1.000000  \n",
            "3     0.750000  \n",
            "4     0.900000  \n",
            "..         ...  \n",
            "367   0.560000  \n",
            "368   0.760000  \n",
            "369   0.680000  \n",
            "370   0.800000  \n",
            "371   0.560000  \n",
            "\n",
            "[372 rows x 10 columns]\n"
          ]
        }
      ]
    },
    {
      "cell_type": "code",
      "source": [
        "# OLS regression\n",
        "Y, X = dmatrices('Diff ~ Night + C(Exam) - 1', data=diffdata, return_type='dataframe')\n",
        "print(X.shape, X.columns)\n",
        "print(Y.shape, Y.columns)"
      ],
      "metadata": {
        "colab": {
          "base_uri": "https://localhost:8080/"
        },
        "id": "gws-T57vZ-vw",
        "outputId": "131f5b92-fd39-4988-e79f-d3bebbb2f65c"
      },
      "execution_count": 11,
      "outputs": [
        {
          "output_type": "stream",
          "name": "stdout",
          "text": [
            "(372, 7) Index(['C(Exam)[1]', 'C(Exam)[2]', 'C(Exam)[3]', 'C(Exam)[4]', 'C(Exam)[5]',\n",
            "       'C(Exam)[6]', 'Night'],\n",
            "      dtype='object')\n",
            "(372, 1) Index(['Diff'], dtype='object')\n"
          ]
        }
      ]
    },
    {
      "cell_type": "code",
      "source": [
        "# OLS Regression\n",
        "print(\"OLS Regression\")\n",
        "betaOLS, standard_errorsOLS, t_statisticsOLS, p_valuesOLS, errorOLS, predictionOLS = OLS(X, Y)\n",
        "print(betaOLS.shape)\n",
        "print(standard_errorsOLS.shape)\n",
        "print(t_statisticsOLS.shape)\n",
        "print(p_valuesOLS.shape)\n",
        "print(errorOLS.shape)\n",
        "print(predictionOLS.shape)\n",
        "DisplayRegression(betaOLS, standard_errorsOLS, t_statisticsOLS, p_valuesOLS, X)"
      ],
      "metadata": {
        "colab": {
          "base_uri": "https://localhost:8080/"
        },
        "id": "XHmkIFmNaycl",
        "outputId": "ef3f44e8-4145-4ace-a88b-d5b7dfd3c69b"
      },
      "execution_count": 12,
      "outputs": [
        {
          "output_type": "stream",
          "name": "stdout",
          "text": [
            "OLS Regression\n",
            "(7, 1)\n",
            "(7,)\n",
            "(1, 7)\n",
            "(1, 7)\n",
            "(372, 1)\n",
            "(372, 1)\n",
            "                Coef        se         t   P-Value\n",
            "C(Exam)[1]  0.064307  0.022901  2.808021  0.005253\n",
            "C(Exam)[2]  0.056720  0.022901  2.476763  0.013710\n",
            "C(Exam)[3]  0.046314  0.022901  2.022362  0.043868\n",
            "C(Exam)[4]  0.053401  0.023319  2.290016  0.022590\n",
            "C(Exam)[5] -0.068608  0.023319 -2.942157  0.003467\n",
            "C(Exam)[6]  0.003828  0.023319  0.164160  0.869696\n",
            "Night      -0.039667  0.017337 -2.287977  0.022710\n"
          ]
        }
      ]
    },
    {
      "cell_type": "code",
      "source": [
        "# Standard Row-Wise Bootstrap\n",
        "boot = Boostrap(Y, X, 1000)\n",
        "standard_bootstrap_results = DisplayBootstrapResults(boot, X)"
      ],
      "metadata": {
        "colab": {
          "base_uri": "https://localhost:8080/"
        },
        "id": "0ABVCMFo-luZ",
        "outputId": "e344f9ae-cc42-4400-af6b-7cdaf761de4e"
      },
      "execution_count": 28,
      "outputs": [
        {
          "output_type": "stream",
          "name": "stdout",
          "text": [
            "               0.025     0.975  P-Value\n",
            "C(Exam)[1]  0.022469  0.102452    0.004\n",
            "C(Exam)[2]  0.006425  0.103501    0.030\n",
            "C(Exam)[3]  0.000893  0.087145    0.044\n",
            "C(Exam)[4]  0.010540  0.097570    0.020\n",
            "C(Exam)[5] -0.110156 -0.030505    0.000\n",
            "C(Exam)[6] -0.056007  0.057011    0.938\n",
            "Night      -0.073755 -0.004651    0.022\n"
          ]
        }
      ]
    },
    {
      "cell_type": "code",
      "source": [
        "# Cluster Bootstrap\n",
        "clusterBoot = ClusterBootstrap(diffdata,'Diff ~ Night + C(Exam)-1', 1000)\n",
        "cluster_bootstrap_results = DisplayBootstrapResults(clusterBoot, X)"
      ],
      "metadata": {
        "colab": {
          "base_uri": "https://localhost:8080/"
        },
        "id": "c10DK14U-nWW",
        "outputId": "1af0f06c-1dd4-4bf8-c49c-b11344d7cdb3"
      },
      "execution_count": 29,
      "outputs": [
        {
          "output_type": "stream",
          "name": "stdout",
          "text": [
            "Boostrapping, replication...\n",
            "Replication... 0\n",
            "Replication... 50\n",
            "Replication... 100\n",
            "Replication... 150\n",
            "Replication... 200\n",
            "Replication... 250\n",
            "Replication... 300\n",
            "Replication... 350\n",
            "Replication... 400\n",
            "Replication... 450\n",
            "Replication... 500\n",
            "Replication... 550\n",
            "Replication... 600\n",
            "Replication... 650\n",
            "Replication... 700\n",
            "Replication... 750\n",
            "Replication... 800\n",
            "Replication... 850\n",
            "Replication... 900\n",
            "Replication... 950\n",
            "               0.025     0.975  P-Value\n",
            "C(Exam)[1]  0.024140  0.106743    0.002\n",
            "C(Exam)[2]  0.010605  0.103052    0.014\n",
            "C(Exam)[3]  0.003772  0.089701    0.042\n",
            "C(Exam)[4]  0.017249  0.092713    0.008\n",
            "C(Exam)[5] -0.112784 -0.028723    0.002\n",
            "C(Exam)[6] -0.054299  0.057994    0.894\n",
            "Night      -0.074584 -0.002344    0.034\n"
          ]
        }
      ]
    },
    {
      "cell_type": "code",
      "metadata": {
        "colab": {
          "base_uri": "https://localhost:8080/",
          "height": 607
        },
        "id": "6ead8492",
        "outputId": "cb7e5232-caf6-4159-9b7b-a1532b43152e"
      },
      "source": [
        "# Get p-values from OLS\n",
        "ols_p_values = pd.DataFrame({\n",
        "    'P-Value': p_valuesOLS.flatten().tolist()\n",
        "}, index=X.columns.to_numpy())\n",
        "\n",
        "# Get p-values from bootstrap\n",
        "standard_bootstrap_p_values = pd.DataFrame({\n",
        "    'P-Value': standard_bootstrap_results['P-Value']\n",
        "})\n",
        "\n",
        "# Get p-values from cluster bootstrap\n",
        "cluster_bootstrap_p_values = pd.DataFrame({\n",
        "    'P-Value': cluster_bootstrap_results['P-Value']\n",
        "})\n",
        "\n",
        "# Combine p-values into a single DataFrame for plotting\n",
        "combined_p_values = pd.DataFrame({\n",
        "    'OLS': ols_p_values['P-Value'],\n",
        "    'Standard Bootstrap': standard_bootstrap_p_values['P-Value'],\n",
        "    'Cluster Bootstrap': cluster_bootstrap_p_values['P-Value']\n",
        "})\n",
        "\n",
        "# Plot the p-values\n",
        "ax = combined_p_values.plot(kind='bar', figsize=(12, 6))\n",
        "plt.ylabel('P-Value')\n",
        "plt.title('Comparison of P-Values from OLS, Standard Bootstrap, and Cluster Bootstrap')\n",
        "plt.xticks(rotation=45, ha='right')\n",
        "plt.tight_layout()\n",
        "plt.show()"
      ],
      "execution_count": 30,
      "outputs": [
        {
          "output_type": "display_data",
          "data": {
            "text/plain": [
              "<Figure size 1200x600 with 1 Axes>"
            ],
            "image/png": "[encoded data removed]"
          },
          "metadata": {}
        }
      ]
    },
    {
      "cell_type": "code",
      "source": [],
      "metadata": {
        "id": "UhSbspFpKMXx"
      },
      "execution_count": null,
      "outputs": []
    }
  ]
}